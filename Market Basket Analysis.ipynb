{
  "cells": [
    {
      "cell_type": "markdown",
      "metadata": {
        "id": "4mh2MiuVMazk"
      },
      "source": [
        "# TP3 - Market Basket Analysis\n",
        "INF8111 - Fouille de données, Eté 2024\n",
        "### Membres de l'équipe\n",
        "    - Gervais Presley Koyaweda\n"
      ]
    },
    {
      "cell_type": "code",
      "execution_count": 1,
      "metadata": {
        "id": "oBYZkM_L5NX9",
        "tags": []
      },
      "outputs": [],
      "source": [
        "ROOT = '/content/TP3/'"
      ]
    },
    {
      "cell_type": "markdown",
      "metadata": {
        "id": "bh1o2bpwPQJG"
      },
      "source": [
        "## Date et directives de remise\n",
        "Vous remettrez l'ensemble des fichiers fichiers nécessaires à la réalisation de TP au sein d'une archive compressée ZIP nommée TP3\\_NomDuMembre1\\_NomDuMembre2\\_NomDuMembre3\n",
        "\n",
        "Cette archive devra, au minimum, inclure ce notebook, nommé TP3\\_NomDuMembre1\\_NomDuMembre2\\_NomDuMembre3.ipynb\n",
        "\n",
        "**Date limite: 23 juin à 23:55**."
      ]
    },
    {
      "cell_type": "markdown",
      "metadata": {
        "id": "taIxayWsmT9m"
      },
      "source": [
        "## 1. Introduction: Market Basket Analysis"
      ]
    },
    {
      "cell_type": "markdown",
      "metadata": {
        "id": "ZQOy7hD8t76L"
      },
      "source": [
        "### Présentation\n",
        "\n",
        "Le *Market Basket Analysis* (MBA) est une technique d'analyse de la fouille de données qui permet de découvrir les associations entre les produits ou leur regroupement. En explorant des motifs intéressants à partir d'une vaste collection de données, le MBA vise à comprendre / révéler les comportements d'achat des clients en se basant sur la théorie selon laquelle si vous avez acheté un certain ensemble de produits, vous êtes plus (ou moins) susceptible d'acheter un autre groupe de produits. En d'autres termes, le MBA permet aux détaillants d'identifier la relation entre les articles que les clients achètent, révélant des tendances d'articles souvent achetés ensemble.\n",
        "\n",
        "Une approche largement utilisée pour explorer ces motifs consiste à construire *** des règles d'association *** telles que\n",
        "- **si** acheté *ITEM_1* **alors** achètera *ITEM_2* avec **confiance** *X*.\n",
        "\n",
        "Ces associations n'ont pas à être des règles individuelles. Ils peuvent impliquer de nombreux éléments. Par exemple, une personne dans un supermarché peut ajouter des œufs dans son panier, puis le MBA peut suggérer qu'elle achètera également du pain et/ou de la farine:\n",
        "\n",
        "+ **si**  acheté *OEUFS* **alors** achètera [*PAIN* avec confiance *0,2*; *FARINE* avec confiance 0,05].\n",
        "\n",
        "Cependant, si la personne décide maintenant d'ajouter de la farine à son panier, la nouvelle règle d'association pourrait être comme ci-dessous, suggérant des ingrédients pour faire un gâteau.\n",
        "\n",
        "+ **si** acheté [*OEUFS, FARINE*] **alors** achètera [*SUCRE* avec confiance 0,45; LEVURE avec confiance 0,12; *PAIN* avec confiance *0,03*].\n",
        "\n",
        "Il existe de nombreux scénarios réels où le MBA joue un rôle central dans l'analyse des données, comme les transactions de supermarché, les commandes en ligne ou l'historique des cartes de crédit. Avec une approche un peu moins mercantile, cet algorithme est aussi utilisé dans le domaine médical. Les spécialistes du marketing peuvent utiliser ces règles d'association pour organiser les produits corrélés plus près les uns des autres sur les étagères des magasins ou faire des suggestions en ligne afin que les clients achètent plus d'articles. Un MBA peut généralement aider les détaillants à répondre aux questions les suivantes:\n",
        "\n",
        "- Quels articles sont souvent achetés ensemble ?\n",
        "- Étant donné un panier, quels articles suggérer ?\n",
        "- Comment placer les articles ensemble sur les étagères ?\n"
      ]
    },
    {
      "cell_type": "markdown",
      "metadata": {
        "id": "_WwuVfQgmaRV"
      },
      "source": [
        "### Objectif\n",
        "\n",
        "Votre objectif dans ce TP est de développer un algorithme MBA pour révéler les motifs en créant des règles d'association dans un ensemble de données volumineux avec plus de trois millions de transactions de supermarché. Cependant, la collecte de règles d'association dans les grands ensembles de données est un problème très intensif en calcul, ce qui rend presque impossible leur exécution sans système distribué. Par conséquent, pour exécuter votre algorithme, vous aurez accès à un cluster de *cloud computing* distribué avec des centaines de cœurs.\n",
        "\n",
        "À cette fin, un algorithme **MapReduce** sera implémenté avec le framework [Apache Spark](http://spark.apache.org), un système informatique distribué rapide. En résumé, Spark est un framework open source conçu avec une méthodologie *scale-out* qui en fait un outil très puissant pour les programmeurs ou les développeurs d'applications pour effectuer un volume massif de calculs et de traitement de données dans des environnements distribués. Spark fournit des API de haut niveau qui facilitent la création d'applications parallèles sans avoir à se soucier de la façon dont votre code et vos données sont parallélisés / distribués par le cluster informatique. Spark fait tout pour vous.\n",
        "\n",
        "La mise en œuvre suivra l'algorithme d'analyse du panier de marché présenté par Jongwook Woo et Yuhang Xu (2012). L'image **workflow.pdf** illustre le flux de travail de l'algorithme et doit être utilisée pour consultation tout au long de ce TP. Les cases bleues sont celles où vous devez implémenter une méthode pour effectuer une fonction de mappage ou de réduction, et les cases grises représentent leur sortie attendue. **Toutes ces opérations sont expliquées en détail dans les sections suivantes.**"
      ]
    },
    {
      "cell_type": "markdown",
      "metadata": {
        "id": "VmJEz5JEMazl"
      },
      "source": [
        "## 1. Configuration de Spark"
      ]
    },
    {
      "cell_type": "markdown",
      "metadata": {
        "id": "kISGZ7w7mue0"
      },
      "source": [
        "#### Exécution avec le notebook Google Colab (fortement conseillé)"
      ]
    },
    {
      "cell_type": "code",
      "execution_count": 2,
      "metadata": {
        "colab": {
          "base_uri": "https://localhost:8080/"
        },
        "id": "JmUMt4htMazm",
        "outputId": "75b79767-67bc-4fc2-8985-40778318e92a",
        "tags": []
      },
      "outputs": [
        {
          "name": "stdout",
          "output_type": "stream",
          "text": [
            "Collecting pyspark\n",
            "  Downloading pyspark-3.5.1.tar.gz (317.0 MB)\n",
            "\u001b[2K     \u001b[90m━━━━━━━━━━━━━━━━━━━━━━━━━━━━━━━━━━━━━━━━\u001b[0m \u001b[32m317.0/317.0 MB\u001b[0m \u001b[31m2.3 MB/s\u001b[0m eta \u001b[36m0:00:00\u001b[0m\n",
            "\u001b[?25h  Preparing metadata (setup.py) ... \u001b[?25l\u001b[?25hdone\n",
            "Requirement already satisfied: py4j==0.10.9.7 in /usr/local/lib/python3.10/dist-packages (from pyspark) (0.10.9.7)\n",
            "Building wheels for collected packages: pyspark\n",
            "  Building wheel for pyspark (setup.py) ... \u001b[?25l\u001b[?25hdone\n",
            "  Created wheel for pyspark: filename=pyspark-3.5.1-py2.py3-none-any.whl size=317488491 sha256=516fe349ab990fb7f0b15f587e4095fedbec0a1196d00d6dc2dcb4e3bfd0d581\n",
            "  Stored in directory: /root/.cache/pip/wheels/80/1d/60/2c256ed38dddce2fdd93be545214a63e02fbd8d74fb0b7f3a6\n",
            "Successfully built pyspark\n",
            "Installing collected packages: pyspark\n",
            "Successfully installed pyspark-3.5.1\n"
          ]
        }
      ],
      "source": [
        "import os\n",
        "!apt-get install openjdk-17-jdk-headless -qq > /dev/null\n",
        "os.environ[\"JAVA_HOME\"] = \"/usr/lib/jvm/java-17-openjdk-amd64\"\n",
        "!pip install pyspark"
      ]
    },
    {
      "cell_type": "markdown",
      "metadata": {
        "id": "dGqidjm0m46p"
      },
      "source": [
        "#### Exécution en local\n",
        "\n"
      ]
    },
    {
      "cell_type": "markdown",
      "metadata": {
        "id": "g1PhMitvnCW2"
      },
      "source": [
        "Spark fonctionne sur les systèmes Windows et UNIX (par exemple, Linux, Mac OS). Il est facile d'exécuter Spark localement sur une seule machine - tout ce dont vous avez besoin est d'avoir Java installé sur votre système PATH, ou la variable d'environnement JAVA_HOME pointant vers une installation Java. Il est obligatoire que le **JDK v8** soit installé sur votre système, car Spark ne prend actuellement en charge que cette version. Si ce n'est pas le cas, accédez à [la page Web de Java](https://www.oracle.com/technetwork/java/javase/downloads/jdk8-downloads-2133151.html) pour télécharger et installer une machine virtuelle Java. N'oubliez pas de définir la variable d'environnement JAVA_HOME pour utiliser JDK v8 si votre installation ne le fait pas automatiquement.\n",
        "\n",
        "L'interface entre Python et Spark se fait via **PySpark**, qui peut être installé en exécutant `pip install pyspark` ou configuré en suivant la séquence ci-dessous:\n",
        "\n",
        "1. D'abord, allez sur http://spark.apache.org/downloads\n",
        "2. Sélectionnez la dernière version de Spark et le package pré-construit pour Apache Hadoop 2.7\n",
        "3. Cliquez pour télécharger **spark-2.4.5-bin-hadoop2.7.tgz** et décompressez-le dans le dossier de votre choix.\n",
        "4. Ensuite, exportez les variables suivantes pour lier PYSPARK (l'interface python de Spark) à votre distribution python dans votre fichier `~/.bash_profile`.\n",
        "\n",
        "``\n",
        "export SPARK_HOME=/chemin/ vers / spark-2.4.5-bin-hadoop2.7\n",
        "export PYTHONPATH=\"$SPARK_HOME/python:$SPARK_HOME/python/lib/py4j-0.10.7-src.zip:$SPARK_HOME/python/lib/pyspark.zip:$ PYTHONPATH\"\n",
        "export PYSPARK_PYTHON=/chemin/vers/votre/python3\n",
        "``\n",
        "\n",
        "5. Exécutez `source ~./bash_profile` pour effectuer les modifications et redémarrer cette session de notebook jupyter."
      ]
    },
    {
      "cell_type": "markdown",
      "metadata": {
        "id": "rovSCW_vYs7m"
      },
      "source": [
        "#### Test de l'installation\n",
        "À l'aide du code suivant, vous pouvez tester si Spark est correctement installé."
      ]
    },
    {
      "cell_type": "code",
      "execution_count": 3,
      "metadata": {
        "colab": {
          "base_uri": "https://localhost:8080/"
        },
        "id": "UxgNiBFkYs7n",
        "outputId": "fc69623c-cca0-4588-f8b1-b6908018417d",
        "tags": []
      },
      "outputs": [
        {
          "name": "stdout",
          "output_type": "stream",
          "text": [
            "+-----+\n",
            "|hello|\n",
            "+-----+\n",
            "|spark|\n",
            "+-----+\n",
            "\n"
          ]
        }
      ],
      "source": [
        "import pyspark\n",
        "from pyspark.sql import SparkSession\n",
        "spark = SparkSession.builder.getOrCreate()\n",
        "df = spark.sql(\"select 'spark' as hello \")\n",
        "df.show()"
      ]
    },
    {
      "cell_type": "markdown",
      "metadata": {
        "id": "MSbOqazVnsMf"
      },
      "source": [
        "### 1.1 Exemple de comptage de produits / Products Counting Example"
      ]
    },
    {
      "cell_type": "markdown",
      "metadata": {
        "id": "QaYpUpOFMazu"
      },
      "source": [
        "Pour tester votre installation et commencer à vous familiariser avec Spark, nous suivrons un exemple qui compte combien de fois les produits du GroceryDataset dataset ont été achetés.\n",
        "\n",
        "Le principal point d'entrée pour commencer la programmation avec Spark est [l'API RDD](https://spark.apache.org/docs/latest/rdd-programming-guide.html), une excellente abstraction Spark pour travailler avec MapReduce. RDD est une collection d'éléments partitionnés sur les nœuds du cluster qui peuvent fonctionner en parallèle. En d'autres termes, RDD est la façon dont Spark maintient vos données prêtes à exécuter une fonction (par exemple, une fonction Map ou une fonction reduce) en parallèle. **Ne vous inquiétez pas si cela semble toujours déroutant, il sera clair une fois que vous commencerez à l'implémenter**. Cependant, cela fait partie de ce TP d'étudier / consulter [Spark python API](https://spark.apache.org/docs/latest/api/python/) et d'apprendre à l'utiliser. Certaines fonctions utiles offertes par l'API RDD sont:\n",
        "\n",
        "1. **map**: return a new RDD by applying a function to each element of this RDD.\n",
        "2. **flatMap**: return a new RDD by first applying a function to all elements of this RDD, and then flattening the results. **Should be used when each entry will yield more than one mapped element**\n",
        "3. **reduce**: reduces the elements of this RDD using the specified commutative and associative binary operator.\n",
        "4. **reduceByKey**: merge the values for each key using an associative and commutative reduce function\n",
        "5. **groupByKey**: group the values for each key in the RDD into a single sequence\n",
        "6. **collect**: return a list that contains all of the elements in this RDD. **Should not be used when working with a lot of data**\n",
        "7. **takeSample**: return a sampled subset of this RDD\n",
        "8. **count**: return the number of elements in this RDD.\n",
        "9. **filter**: return a new RDD containing only the elements that satisfy a predicate."
      ]
    },
    {
      "cell_type": "code",
      "execution_count": 4,
      "metadata": {
        "colab": {
          "base_uri": "https://localhost:8080/"
        },
        "id": "NZDz1nrBMazu",
        "outputId": "aca30a23-d336-4085-a591-2b41b371d5d2",
        "tags": []
      },
      "outputs": [
        {
          "name": "stdout",
          "output_type": "stream",
          "text": [
            "Grocery dataset\n",
            "+--------+--------------------+\n",
            "|order_id|         transaction|\n",
            "+--------+--------------------+\n",
            "|       0|  MILK,BREAD,BISCUIT|\n",
            "|       1|BREAD,MILK,BISCUI...|\n",
            "|       2| BREAD,TEA,BOURNVITA|\n",
            "|       3|JAM,MAGGI,BREAD,MILK|\n",
            "|       4|   MAGGI,TEA,BISCUIT|\n",
            "|       5| BREAD,TEA,BOURNVITA|\n",
            "|       6|MAGGI,TEA,CORNFLAKES|\n",
            "|       7|MAGGI,BREAD,TEA,B...|\n",
            "|       8| JAM,MAGGI,BREAD,TEA|\n",
            "|       9|          BREAD,MILK|\n",
            "|      10|COFFEE,COCK,BISCU...|\n",
            "|      11|COFFEE,COCK,BISCU...|\n",
            "|      12|COFFEE,SUGER,BOUR...|\n",
            "|      13|   BREAD,COFFEE,COCK|\n",
            "|      14| BREAD,SUGER,BISCUIT|\n",
            "|      15|COFFEE,SUGER,CORN...|\n",
            "|      16|BREAD,SUGER,BOURN...|\n",
            "|      17|  BREAD,COFFEE,SUGER|\n",
            "|      18|  BREAD,COFFEE,SUGER|\n",
            "|      19|TEA,MILK,COFFEE,C...|\n",
            "+--------+--------------------+\n",
            "\n",
            "Grocery dataframe as a RDD object (list of Row objects):\n",
            "\t [Row(order_id=0, transaction='MILK,BREAD,BISCUIT'), Row(order_id=1, transaction='BREAD,MILK,BISCUIT,CORNFLAKES'), Row(order_id=2, transaction='BREAD,TEA,BOURNVITA'), Row(order_id=3, transaction='JAM,MAGGI,BREAD,MILK'), Row(order_id=4, transaction='MAGGI,TEA,BISCUIT'), Row(order_id=5, transaction='BREAD,TEA,BOURNVITA'), Row(order_id=6, transaction='MAGGI,TEA,CORNFLAKES'), Row(order_id=7, transaction='MAGGI,BREAD,TEA,BISCUIT'), Row(order_id=8, transaction='JAM,MAGGI,BREAD,TEA'), Row(order_id=9, transaction='BREAD,MILK'), Row(order_id=10, transaction='COFFEE,COCK,BISCUIT,CORNFLAKES'), Row(order_id=11, transaction='COFFEE,COCK,BISCUIT,CORNFLAKES'), Row(order_id=12, transaction='COFFEE,SUGER,BOURNVITA'), Row(order_id=13, transaction='BREAD,COFFEE,COCK'), Row(order_id=14, transaction='BREAD,SUGER,BISCUIT'), Row(order_id=15, transaction='COFFEE,SUGER,CORNFLAKES'), Row(order_id=16, transaction='BREAD,SUGER,BOURNVITA'), Row(order_id=17, transaction='BREAD,COFFEE,SUGER'), Row(order_id=18, transaction='BREAD,COFFEE,SUGER'), Row(order_id=19, transaction='TEA,MILK,COFFEE,CORNFLAKES')]\n",
            "\n",
            "Mapped products:\n",
            "\t [('MILK', 1), ('BREAD', 1), ('BISCUIT', 1), ('BREAD', 1), ('MILK', 1), ('BISCUIT', 1), ('CORNFLAKES', 1), ('BREAD', 1), ('TEA', 1), ('BOURNVITA', 1), ('JAM', 1), ('MAGGI', 1), ('BREAD', 1), ('MILK', 1), ('MAGGI', 1), ('TEA', 1), ('BISCUIT', 1), ('BREAD', 1), ('TEA', 1), ('BOURNVITA', 1), ('MAGGI', 1), ('TEA', 1), ('CORNFLAKES', 1), ('MAGGI', 1), ('BREAD', 1), ('TEA', 1), ('BISCUIT', 1), ('JAM', 1), ('MAGGI', 1), ('BREAD', 1), ('TEA', 1), ('BREAD', 1), ('MILK', 1), ('COFFEE', 1), ('COCK', 1), ('BISCUIT', 1), ('CORNFLAKES', 1), ('COFFEE', 1), ('COCK', 1), ('BISCUIT', 1), ('CORNFLAKES', 1), ('COFFEE', 1), ('SUGER', 1), ('BOURNVITA', 1), ('BREAD', 1), ('COFFEE', 1), ('COCK', 1), ('BREAD', 1), ('SUGER', 1), ('BISCUIT', 1), ('COFFEE', 1), ('SUGER', 1), ('CORNFLAKES', 1), ('BREAD', 1), ('SUGER', 1), ('BOURNVITA', 1), ('BREAD', 1), ('COFFEE', 1), ('SUGER', 1), ('BREAD', 1), ('COFFEE', 1), ('SUGER', 1), ('TEA', 1), ('MILK', 1), ('COFFEE', 1), ('CORNFLAKES', 1)]\n",
            "\n",
            "Reduced (merged) products:\n",
            "\t [('MILK', 5), ('BREAD', 13), ('BISCUIT', 7), ('CORNFLAKES', 6), ('TEA', 7), ('BOURNVITA', 4), ('JAM', 2), ('MAGGI', 5), ('COFFEE', 8), ('COCK', 3), ('SUGER', 6)]\n",
            "\n",
            "Visualizing as a dataframe:\n",
            "+----------+-------------+\n",
            "|   product|count_product|\n",
            "+----------+-------------+\n",
            "|      MILK|            5|\n",
            "|     BREAD|           13|\n",
            "|   BISCUIT|            7|\n",
            "|CORNFLAKES|            6|\n",
            "|       TEA|            7|\n",
            "| BOURNVITA|            4|\n",
            "|       JAM|            2|\n",
            "|     MAGGI|            5|\n",
            "|    COFFEE|            8|\n",
            "|      COCK|            3|\n",
            "|     SUGER|            6|\n",
            "+----------+-------------+\n",
            "\n"
          ]
        }
      ],
      "source": [
        "from pyspark.sql import SparkSession\n",
        "from pyspark.sql.functions import monotonically_increasing_id\n",
        "\n",
        "def map_to_product(row):\n",
        "    \"\"\"\n",
        "    Map each transaction into a set of KEY-VALUE elements.\n",
        "    The KEY is the word (product) itself and the VALUE is its number of apparitions.\n",
        "    \"\"\"\n",
        "    products = row.transaction.split(',') # split products from the column transaction\n",
        "    for p in products:\n",
        "        yield (p, 1)\n",
        "\n",
        "def reduce_product_by_key(value1, value2):\n",
        "    \"Reduce the mapped objects to unique words by merging (summing ) their values\"\n",
        "    return value1+value2\n",
        "\n",
        "# Initializates a object of SparkSession class, main entry point to Spark's funcionalites\n",
        "spark = SparkSession.builder.getOrCreate()\n",
        "\n",
        "# Read a grocery dataset\n",
        "grocery = spark.read.csv(ROOT + \"GroceryDataset.csv\") \\\n",
        "              .withColumnRenamed('_c0', 'transaction') \\\n",
        "              .select(\"*\").withColumn(\"order_id\", monotonically_increasing_id())\n",
        "\n",
        "grocery = grocery.select(\"order_id\", \"transaction\")\n",
        "\n",
        "print(\"Grocery dataset\")\n",
        "grocery.show()\n",
        "\n",
        "# Obtain a RDD object to call a map function\n",
        "grocery_rdd = grocery.rdd\n",
        "print(\"Grocery dataframe as a RDD object (list of Row objects):\\n\\t\", grocery_rdd.collect())\n",
        "\n",
        "# Map function to identify all products\n",
        "grocery_rdd = grocery_rdd.flatMap(map_to_product)\n",
        "print(\"\\nMapped products:\\n\\t\", grocery_rdd.collect())\n",
        "\n",
        "# Reduce function to merge values of elements that share the same KEY\n",
        "grocery_rdd = grocery_rdd.reduceByKey(reduce_product_by_key)\n",
        "print(\"\\nReduced (merged) products:\\n\\t\", grocery_rdd.collect())\n",
        "\n",
        "print(\"\\nVisualizing as a dataframe:\")\n",
        "grocery_rdd.toDF([\"product\", \"count_product\"]).show()"
      ]
    },
    {
      "cell_type": "markdown",
      "metadata": {
        "id": "PpJGQmzXMazz"
      },
      "source": [
        "### 1.2 Travailler avec Spark Dataframe / Working with Spark Dataframes\n",
        "\n",
        "Dans l'exemple ci-dessus, nous avons brièvement utilisé une classe Dataframe de Spark, mais uniquement pour obtenir un objet RDD avec ``toy.rdd`` et pour aficher les données sous forme de tableau structuré avec le ``show ()`` une fonction. Cependant, [Dataframe](http://spark.apache.org/docs/latest/api/python/) est une partie cruciale de la version actuelle de Spark et est construit sur l'API RDD. Il s'agit d'une collection distribuée de lignes sous des colonnes nommées, identique à une table dans une base de données relationnelle. Le Dataframe de Spark fonctionne de la même manière que [Pandas](https://pandas.pydata.org/pandas-docs/stable/reference/api/pandas.DataFrame.html). En fait, nous pouvons exporter (obtenir) une Dataframe Spark vers (à partir de) ​​une Dataframe pandas avec la fonction ``toPandas()``  (``spark.createDataFrame``).\n",
        "\n",
        "Une fonctionnalité centrale du Dataframe est de bénéficier du [Spark SQL](https://spark.apache.org/docs/latest/sql-programming-guide.html#sql), un module qui permet des requêtes SQL sur des données structurées. Par exemple, le même « exemple de comptage de produits » aurait pu être implémenté comme une séquence d'opérations SQL sur les données:"
      ]
    },
    {
      "cell_type": "code",
      "execution_count": 5,
      "metadata": {
        "colab": {
          "base_uri": "https://localhost:8080/"
        },
        "id": "oFL6BuIDMaz0",
        "outputId": "215007f1-9241-4f74-c28d-bd1a3e90f2ba",
        "tags": []
      },
      "outputs": [
        {
          "name": "stdout",
          "output_type": "stream",
          "text": [
            "New column 'products': exploding the transaction's products to a new row\n",
            "+--------+--------------------+----------+\n",
            "|order_id|         transaction|  products|\n",
            "+--------+--------------------+----------+\n",
            "|       0|  MILK,BREAD,BISCUIT|      MILK|\n",
            "|       0|  MILK,BREAD,BISCUIT|     BREAD|\n",
            "|       0|  MILK,BREAD,BISCUIT|   BISCUIT|\n",
            "|       1|BREAD,MILK,BISCUI...|     BREAD|\n",
            "|       1|BREAD,MILK,BISCUI...|      MILK|\n",
            "|       1|BREAD,MILK,BISCUI...|   BISCUIT|\n",
            "|       1|BREAD,MILK,BISCUI...|CORNFLAKES|\n",
            "|       2| BREAD,TEA,BOURNVITA|     BREAD|\n",
            "|       2| BREAD,TEA,BOURNVITA|       TEA|\n",
            "|       2| BREAD,TEA,BOURNVITA| BOURNVITA|\n",
            "|       3|JAM,MAGGI,BREAD,MILK|       JAM|\n",
            "|       3|JAM,MAGGI,BREAD,MILK|     MAGGI|\n",
            "|       3|JAM,MAGGI,BREAD,MILK|     BREAD|\n",
            "|       3|JAM,MAGGI,BREAD,MILK|      MILK|\n",
            "|       4|   MAGGI,TEA,BISCUIT|     MAGGI|\n",
            "|       4|   MAGGI,TEA,BISCUIT|       TEA|\n",
            "|       4|   MAGGI,TEA,BISCUIT|   BISCUIT|\n",
            "|       5| BREAD,TEA,BOURNVITA|     BREAD|\n",
            "|       5| BREAD,TEA,BOURNVITA|       TEA|\n",
            "|       5| BREAD,TEA,BOURNVITA| BOURNVITA|\n",
            "+--------+--------------------+----------+\n",
            "only showing top 20 rows\n",
            "\n",
            "Couting unique products:\n",
            "+----------+-------------+\n",
            "|  products|count_product|\n",
            "+----------+-------------+\n",
            "|     BREAD|           13|\n",
            "|    COFFEE|            8|\n",
            "|       TEA|            7|\n",
            "|   BISCUIT|            7|\n",
            "|CORNFLAKES|            6|\n",
            "|     SUGER|            6|\n",
            "|      MILK|            5|\n",
            "|     MAGGI|            5|\n",
            "| BOURNVITA|            4|\n",
            "|      COCK|            3|\n",
            "|       JAM|            2|\n",
            "+----------+-------------+\n",
            "\n"
          ]
        }
      ],
      "source": [
        "import pyspark.sql.functions as f\n",
        "\n",
        "# Creates a new column, products, with all products appering in each transaction\n",
        "print('New column \\'products\\': exploding the transaction\\'s products to a new row')\n",
        "df_grocery = grocery.withColumn('products', f.explode(f.split(grocery.transaction, ',')))\n",
        "df_grocery.show()\n",
        "\n",
        "# Performs a select query and group rows by the product name, aggreagating by counting\n",
        "print('Couting unique products:')\n",
        "df_grocery.select(df_grocery.products)\\\n",
        "      .groupBy(df_grocery.products)\\\n",
        "      .agg(f.count('products').alias('count_product'))\\\n",
        "      .sort('count_product', ascending=False)\\\n",
        "      .show()"
      ]
    },
    {
      "cell_type": "markdown",
      "metadata": {
        "id": "W4HFs8CVMaz3"
      },
      "source": [
        "En outre, les mêmes opérations SQL effectuées ci-dessus auraient pu être effectuées avec une requête en langage SQL traditionnel comme indiqué ci-dessous:"
      ]
    },
    {
      "cell_type": "code",
      "execution_count": 6,
      "metadata": {
        "colab": {
          "base_uri": "https://localhost:8080/"
        },
        "id": "O_eYl-7tMaz3",
        "outputId": "2bf20c45-2ed7-42eb-bda8-394f76ae70aa",
        "tags": []
      },
      "outputs": [
        {
          "name": "stdout",
          "output_type": "stream",
          "text": [
            "+----------+-------------+\n",
            "|  products|product_count|\n",
            "+----------+-------------+\n",
            "|     BREAD|           13|\n",
            "|    COFFEE|            8|\n",
            "|       TEA|            7|\n",
            "|   BISCUIT|            7|\n",
            "|CORNFLAKES|            6|\n",
            "|     SUGER|            6|\n",
            "|      MILK|            5|\n",
            "|     MAGGI|            5|\n",
            "| BOURNVITA|            4|\n",
            "|      COCK|            3|\n",
            "|       JAM|            2|\n",
            "+----------+-------------+\n",
            "\n"
          ]
        }
      ],
      "source": [
        "# Creates a relational table Grocery in the Spark session\n",
        "df_grocery.createOrReplaceTempView(\"Grocery\")\n",
        "\n",
        "spark.sql(\"SELECT t.products, COUNT(t.products) AS product_count\"\n",
        "          \" FROM Grocery t\"\n",
        "          \" GROUP BY t.products\"\n",
        "          \" ORDER BY product_count DESC\").show()"
      ]
    },
    {
      "cell_type": "markdown",
      "metadata": {
        "id": "MTMT2RlqQBj9"
      },
      "source": [
        "Ces concepts SQL sont mentionnés ici car ils nous seront utiles lors du TP, principalement dans la section 3, pour manipuler les données du supermarché, qui sont structurées en tableaux. Ainsi, si vous n'êtes pas familier avec SQL, il est recommandé de suivre un [tutoriel](https://www.w3schools.com/sql/) pour comprendre les bases."
      ]
    },
    {
      "cell_type": "markdown",
      "metadata": {
        "id": "s1oZzC-ZQEE0"
      },
      "source": [
        "\n",
        "\n",
        "## 2. Algorithme MBA (45 points)\n",
        "Les sections suivantes expliquent comment développer chaque étape de l'algorithme MapReduce pour notre application commerciale. La figure workflow.pdf illustre chaque étape de l'algorithme."
      ]
    },
    {
      "cell_type": "markdown",
      "metadata": {
        "id": "T0Onr2NxMaz8"
      },
      "source": [
        "\n",
        "\n",
        "### 2.1 Map to Patterns (10 points)\n",
        "Pour un sous-ensemble de transactions (c'est-à-dire les lignes de notre grocery dataset), chaque transaction doit être **mappée** vers un ensemble de *motifs d'achat* trouvés dans la transaction. Formellement, ces motifs sont des sous-ensembles de produits qui représentent un groupe d'articles achetés ensemble.\n",
        "\n",
        "Pour le framework MapReduce, chaque motif doit être créé comme un élément *KEY-VALUE*, où la KEY peut prendre la forme d'un singleton, d'une paire ou d'un trio de produits présents dans la transaction. Plus précisément, pour chaque transaction, la fonction de mappage doit générer tous les sous-ensembles **UNIQUE** possibles de taille **UN, DEUX ou TROIS**. La VALEUR associée à chaque KEY est le nombre de fois que la KEY est apparue dans la transaction (si nous supposons qu'aucun produit n'apparaît plus d'une fois dans la transaction, cette valeur est toujours égale à un).\n",
        "\n",
        "Maintenant, implémentez la fonction **map_to_patterns** qui reçoit une transaction (une ligne du dataset) et retourne les motifs trouvés dans la transaction. Les éléments mappés sont un tuple (KEY, VALUE), où KEY est également un tuple de noms de produits. Il est crucial de noter que, puisque chaque entrée (transaction) de la fonction MAP produira **plus** un élément KEY-VALUE, un *flatMap* doit être invoqué pour cette étape. Pour le \"grocery dataset\", la sortie attendue est :\n",
        "\n",
        "<pre style=\"align:center; border:1px solid black;font-size: 8pt; line-height: 1.1; height: auto; width: 20em; padding-left:1px\">\n",
        "<code>\n",
        "+-----------------------------------+-----------+\n",
        "|patterns                           |occurrences|\n",
        "+-----------------------------------+-----------+\n",
        "|('BISCUIT', 'BREAD')               |1          |\n",
        "|('BISCUIT', 'BREAD')               |1          |\n",
        "|('BISCUIT', 'BREAD')               |1          |\n",
        "|('BISCUIT', 'BREAD')               |1          |\n",
        "|('BISCUIT', 'BREAD', 'CORNFLAKES') |1          |\n",
        "|('BISCUIT', 'BREAD', 'MAGGI')      |1          |\n",
        "|('BISCUIT', 'BREAD', 'MILK')       |1          |\n",
        "|('BISCUIT', 'BREAD', 'MILK')       |1          |\n",
        "|('BISCUIT', 'BREAD', 'SUGER')      |1          |\n",
        "|('BISCUIT', 'BREAD', 'TEA')        |1          |\n",
        "|('BISCUIT', 'COCK')                |1          |\n",
        "|('BISCUIT', 'COCK')                |1          |\n",
        "|('BISCUIT', 'COCK', 'COFFEE')      |1          |\n",
        "|('BISCUIT', 'COCK', 'COFFEE')      |1          |\n",
        "|('BISCUIT', 'COCK', 'CORNFLAKES')  |1          |\n",
        "|('BISCUIT', 'COCK', 'CORNFLAKES')  |1          |\n",
        "|('BISCUIT', 'COFFEE')              |1          |\n",
        "|('BISCUIT', 'COFFEE')              |1          |\n",
        "|('BISCUIT', 'COFFEE', 'CORNFLAKES')|1          |\n",
        "|('BISCUIT', 'COFFEE', 'CORNFLAKES')|1          |\n",
        "|('BISCUIT', 'CORNFLAKES')          |1          |\n",
        "|('BISCUIT', 'CORNFLAKES')          |1          |\n",
        "|('BISCUIT', 'CORNFLAKES')          |1          |\n",
        "|('BISCUIT', 'CORNFLAKES', 'MILK')  |1          |\n",
        "|('BISCUIT', 'MAGGI')               |1          |\n",
        "|('BISCUIT', 'MAGGI')               |1          |\n",
        "|('BISCUIT', 'MAGGI', 'TEA')        |1          |\n",
        "|('BISCUIT', 'MAGGI', 'TEA')        |1          |\n",
        "|('BISCUIT', 'MILK')                |1          |\n",
        "|('BISCUIT', 'MILK')                |1          |\n",
        "|('BISCUIT', 'SUGER')               |1          |\n",
        "|('BISCUIT', 'TEA')                 |1          |\n",
        "|('BISCUIT', 'TEA')                 |1          |\n",
        "|('BISCUIT',)                       |1          |\n",
        "|('BISCUIT',)                       |1          |\n",
        "|('BISCUIT',)                       |1          |\n",
        "|('BISCUIT',)                       |1          |\n",
        "|('BISCUIT',)                       |1          |\n",
        "|('BISCUIT',)                       |1          |\n",
        "|('BISCUIT',)                       |1          |\n",
        "|('BOURNVITA', 'BREAD')             |1          |\n",
        "|('BOURNVITA', 'BREAD')             |1          |\n",
        "|('BOURNVITA', 'BREAD')             |1          |\n",
        "|('BOURNVITA', 'BREAD', 'SUGER')    |1          |\n",
        "|('BOURNVITA', 'BREAD', 'TEA')      |1          |\n",
        "|('BOURNVITA', 'BREAD', 'TEA')      |1          |\n",
        "|('BOURNVITA', 'COFFEE')            |1          |\n",
        "|('BOURNVITA', 'COFFEE', 'SUGER')   |1          |\n",
        "|('BOURNVITA', 'SUGER')             |1          |\n",
        "|('BOURNVITA', 'SUGER')             |1          |\n",
        "+-----------------------------------+-----------+\n",
        "</code>\n",
        "</pre>\n",
        "\n",
        "Votre sortie devra ainsi être **exactement** la même, sans quoi aucun point ne pourra vous être attribué pour cette question."
      ]
    },
    {
      "cell_type": "code",
      "execution_count": 7,
      "metadata": {
        "colab": {
          "base_uri": "https://localhost:8080/"
        },
        "id": "BscKKDAjMaz9",
        "outputId": "0d78e23e-755a-4e54-9bea-db616d58923f",
        "tags": []
      },
      "outputs": [
        {
          "name": "stdout",
          "output_type": "stream",
          "text": [
            "+-----------------------------------+-----------+\n",
            "|patterns                           |occurrences|\n",
            "+-----------------------------------+-----------+\n",
            "|('BISCUIT', 'BREAD')               |1          |\n",
            "|('BISCUIT', 'BREAD')               |1          |\n",
            "|('BISCUIT', 'BREAD')               |1          |\n",
            "|('BISCUIT', 'BREAD')               |1          |\n",
            "|('BISCUIT', 'BREAD', 'CORNFLAKES') |1          |\n",
            "|('BISCUIT', 'BREAD', 'MAGGI')      |1          |\n",
            "|('BISCUIT', 'BREAD', 'MILK')       |1          |\n",
            "|('BISCUIT', 'BREAD', 'MILK')       |1          |\n",
            "|('BISCUIT', 'BREAD', 'SUGER')      |1          |\n",
            "|('BISCUIT', 'BREAD', 'TEA')        |1          |\n",
            "|('BISCUIT', 'COCK')                |1          |\n",
            "|('BISCUIT', 'COCK')                |1          |\n",
            "|('BISCUIT', 'COCK', 'COFFEE')      |1          |\n",
            "|('BISCUIT', 'COCK', 'COFFEE')      |1          |\n",
            "|('BISCUIT', 'COCK', 'CORNFLAKES')  |1          |\n",
            "|('BISCUIT', 'COCK', 'CORNFLAKES')  |1          |\n",
            "|('BISCUIT', 'COFFEE')              |1          |\n",
            "|('BISCUIT', 'COFFEE')              |1          |\n",
            "|('BISCUIT', 'COFFEE', 'CORNFLAKES')|1          |\n",
            "|('BISCUIT', 'COFFEE', 'CORNFLAKES')|1          |\n",
            "|('BISCUIT', 'CORNFLAKES')          |1          |\n",
            "|('BISCUIT', 'CORNFLAKES')          |1          |\n",
            "|('BISCUIT', 'CORNFLAKES')          |1          |\n",
            "|('BISCUIT', 'CORNFLAKES', 'MILK')  |1          |\n",
            "|('BISCUIT', 'MAGGI')               |1          |\n",
            "|('BISCUIT', 'MAGGI')               |1          |\n",
            "|('BISCUIT', 'MAGGI', 'TEA')        |1          |\n",
            "|('BISCUIT', 'MAGGI', 'TEA')        |1          |\n",
            "|('BISCUIT', 'MILK')                |1          |\n",
            "|('BISCUIT', 'MILK')                |1          |\n",
            "|('BISCUIT', 'SUGER')               |1          |\n",
            "|('BISCUIT', 'TEA')                 |1          |\n",
            "|('BISCUIT', 'TEA')                 |1          |\n",
            "|('BISCUIT',)                       |1          |\n",
            "|('BISCUIT',)                       |1          |\n",
            "|('BISCUIT',)                       |1          |\n",
            "|('BISCUIT',)                       |1          |\n",
            "|('BISCUIT',)                       |1          |\n",
            "|('BISCUIT',)                       |1          |\n",
            "|('BISCUIT',)                       |1          |\n",
            "|('BOURNVITA', 'BREAD')             |1          |\n",
            "|('BOURNVITA', 'BREAD')             |1          |\n",
            "|('BOURNVITA', 'BREAD')             |1          |\n",
            "|('BOURNVITA', 'BREAD', 'SUGER')    |1          |\n",
            "|('BOURNVITA', 'BREAD', 'TEA')      |1          |\n",
            "|('BOURNVITA', 'BREAD', 'TEA')      |1          |\n",
            "|('BOURNVITA', 'COFFEE')            |1          |\n",
            "|('BOURNVITA', 'COFFEE', 'SUGER')   |1          |\n",
            "|('BOURNVITA', 'SUGER')             |1          |\n",
            "|('BOURNVITA', 'SUGER')             |1          |\n",
            "+-----------------------------------+-----------+\n",
            "only showing top 50 rows\n",
            "\n"
          ]
        }
      ],
      "source": [
        "from itertools import combinations\n",
        "\n",
        "def format_tuples(pattern):\n",
        "    \"\"\"\n",
        "    Used for visualizition.\n",
        "    Transforms tuples to a string since Dataframe does not support column of tuples with different sizes\n",
        "    (a,b,c) -> '(a,b,c)'\n",
        "    \"\"\"\n",
        "    return (str(pattern[0]), str(pattern[1]))\n",
        "\n",
        "def map_to_patterns(row):\n",
        "    \"\"\"\n",
        "    TODO\n",
        "    \"\"\"\n",
        "    products=row.transaction.split(',')\n",
        "    patterns=[]\n",
        "\n",
        "    for i in range(1,4):\n",
        "      for combo in combinations(sorted(products),i):\n",
        "        patterns.append((combo,1))\n",
        "\n",
        "    return patterns\n",
        "\n",
        "\n",
        "grocery_rdd = grocery.rdd\n",
        "patterns_rdd = grocery_rdd.flatMap(map_to_patterns)\n",
        "\n",
        "# # Output as dataframe\n",
        "patterns_rdd.map(format_tuples).toDF(['patterns', 'occurrences']).sort(['patterns']).show(50, truncate=False)"
      ]
    },
    {
      "cell_type": "markdown",
      "metadata": {
        "id": "YvvRw0plMa0B"
      },
      "source": [
        "### 2.2  Reduce patterns  (2,5 points)\n",
        "Une fois que différents processeurs ont traité les transactions, une fonction **reduce** doit être appelée pour combiner des KEYS identiques (le sous-ensemble de produits) et calculer le nombre total de ses occurrences dans le dataset. En d'autres termes, cette procédure de réduction doit additionner la *VALUE* de chaque KEY identique.\n",
        "\n",
        "Créez ci-dessous une fonction **reduce_patterns** qui doit additionner la VALUE de chaque motif.\n",
        "Pour le \"grocery dataset\", la sortie attendue est:\n",
        "\n",
        "<pre style=\"align:center; border:1px solid black;font-size: 8pt; line-height: 1.1; height: auto; width: 28em; padding-left:5px\">\n",
        "<code>\n",
        "+-----------------------------------+--------------------+\n",
        "|patterns                           |combined_occurrences|\n",
        "+-----------------------------------+--------------------+\n",
        "|('BISCUIT', 'BREAD')               |4                   |\n",
        "|('BISCUIT', 'BREAD', 'CORNFLAKES') |1                   |\n",
        "|('BISCUIT', 'BREAD', 'MAGGI')      |1                   |\n",
        "|('BISCUIT', 'BREAD', 'MILK')       |2                   |\n",
        "|('BISCUIT', 'BREAD', 'SUGER')      |1                   |\n",
        "|('BISCUIT', 'BREAD', 'TEA')        |1                   |\n",
        "|('BISCUIT', 'COCK')                |2                   |\n",
        "|('BISCUIT', 'COCK', 'COFFEE')      |2                   |\n",
        "|('BISCUIT', 'COCK', 'CORNFLAKES')  |2                   |\n",
        "|('BISCUIT', 'COFFEE')              |2                   |\n",
        "|('BISCUIT', 'COFFEE', 'CORNFLAKES')|2                   |\n",
        "|('BISCUIT', 'CORNFLAKES')          |3                   |\n",
        "|('BISCUIT', 'CORNFLAKES', 'MILK')  |1                   |\n",
        "|('BISCUIT', 'MAGGI')               |2                   |\n",
        "|('BISCUIT', 'MAGGI', 'TEA')        |2                   |\n",
        "|('BISCUIT', 'MILK')                |2                   |\n",
        "|('BISCUIT', 'SUGER')               |1                   |\n",
        "|('BISCUIT', 'TEA')                 |2                   |\n",
        "|('BISCUIT',)                       |7                   |\n",
        "|('BOURNVITA', 'BREAD')             |3                   |\n",
        "|('BOURNVITA', 'BREAD', 'SUGER')    |1                   |\n",
        "|('BOURNVITA', 'BREAD', 'TEA')      |2                   |\n",
        "|('BOURNVITA', 'COFFEE')            |1                   |\n",
        "|('BOURNVITA', 'COFFEE', 'SUGER')   |1                   |\n",
        "|('BOURNVITA', 'SUGER')             |2                   |\n",
        "|('BOURNVITA', 'TEA')               |2                   |\n",
        "|('BOURNVITA',)                     |4                   |\n",
        "|('BREAD', 'COCK')                  |1                   |\n",
        "|('BREAD', 'COCK', 'COFFEE')        |1                   |\n",
        "|('BREAD', 'COFFEE')                |3                   |\n",
        "|('BREAD', 'COFFEE', 'SUGER')       |2                   |\n",
        "|('BREAD', 'CORNFLAKES')            |1                   |\n",
        "|('BREAD', 'CORNFLAKES', 'MILK')    |1                   |\n",
        "|('BREAD', 'JAM')                   |2                   |\n",
        "|('BREAD', 'JAM', 'MAGGI')          |2                   |\n",
        "|('BREAD', 'JAM', 'MILK')           |1                   |\n",
        "|('BREAD', 'JAM', 'TEA')            |1                   |\n",
        "|('BREAD', 'MAGGI')                 |3                   |\n",
        "|('BREAD', 'MAGGI', 'MILK')         |1                   |\n",
        "|('BREAD', 'MAGGI', 'TEA')          |2                   |\n",
        "|('BREAD', 'MILK')                  |4                   |\n",
        "|('BREAD', 'SUGER')                 |4                   |\n",
        "|('BREAD', 'TEA')                   |4                   |\n",
        "|('BREAD',)                         |13                  |\n",
        "|('COCK', 'COFFEE')                 |3                   |\n",
        "|('COCK', 'COFFEE', 'CORNFLAKES')   |2                   |\n",
        "|('COCK', 'CORNFLAKES')             |2                   |\n",
        "|('COCK',)                          |3                   |\n",
        "|('COFFEE', 'CORNFLAKES')           |4                   |\n",
        "|('COFFEE', 'CORNFLAKES', 'MILK')   |1                   |\n",
        "+-----------------------------------+--------------------+\n",
        "</code>\n",
        "</pre>\n",
        "\n",
        "Votre sortie devra ainsi être **exactement** la même, sans quoi aucun point ne pourra vous être attribué pour cette question.\n"
      ]
    },
    {
      "cell_type": "code",
      "execution_count": 8,
      "metadata": {
        "colab": {
          "base_uri": "https://localhost:8080/"
        },
        "id": "67IKY_4MMa0C",
        "outputId": "530924f6-ead3-4930-9aaf-cf916c24bcfe",
        "tags": []
      },
      "outputs": [
        {
          "name": "stdout",
          "output_type": "stream",
          "text": [
            "+-----------------------------------+--------------------+\n",
            "|patterns                           |combined_occurrences|\n",
            "+-----------------------------------+--------------------+\n",
            "|('BISCUIT', 'BREAD')               |4                   |\n",
            "|('BISCUIT', 'BREAD', 'CORNFLAKES') |1                   |\n",
            "|('BISCUIT', 'BREAD', 'MAGGI')      |1                   |\n",
            "|('BISCUIT', 'BREAD', 'MILK')       |2                   |\n",
            "|('BISCUIT', 'BREAD', 'SUGER')      |1                   |\n",
            "|('BISCUIT', 'BREAD', 'TEA')        |1                   |\n",
            "|('BISCUIT', 'COCK')                |2                   |\n",
            "|('BISCUIT', 'COCK', 'COFFEE')      |2                   |\n",
            "|('BISCUIT', 'COCK', 'CORNFLAKES')  |2                   |\n",
            "|('BISCUIT', 'COFFEE')              |2                   |\n",
            "|('BISCUIT', 'COFFEE', 'CORNFLAKES')|2                   |\n",
            "|('BISCUIT', 'CORNFLAKES')          |3                   |\n",
            "|('BISCUIT', 'CORNFLAKES', 'MILK')  |1                   |\n",
            "|('BISCUIT', 'MAGGI')               |2                   |\n",
            "|('BISCUIT', 'MAGGI', 'TEA')        |2                   |\n",
            "|('BISCUIT', 'MILK')                |2                   |\n",
            "|('BISCUIT', 'SUGER')               |1                   |\n",
            "|('BISCUIT', 'TEA')                 |2                   |\n",
            "|('BISCUIT',)                       |7                   |\n",
            "|('BOURNVITA', 'BREAD')             |3                   |\n",
            "|('BOURNVITA', 'BREAD', 'SUGER')    |1                   |\n",
            "|('BOURNVITA', 'BREAD', 'TEA')      |2                   |\n",
            "|('BOURNVITA', 'COFFEE')            |1                   |\n",
            "|('BOURNVITA', 'COFFEE', 'SUGER')   |1                   |\n",
            "|('BOURNVITA', 'SUGER')             |2                   |\n",
            "|('BOURNVITA', 'TEA')               |2                   |\n",
            "|('BOURNVITA',)                     |4                   |\n",
            "|('BREAD', 'COCK')                  |1                   |\n",
            "|('BREAD', 'COCK', 'COFFEE')        |1                   |\n",
            "|('BREAD', 'COFFEE')                |3                   |\n",
            "|('BREAD', 'COFFEE', 'SUGER')       |2                   |\n",
            "|('BREAD', 'CORNFLAKES')            |1                   |\n",
            "|('BREAD', 'CORNFLAKES', 'MILK')    |1                   |\n",
            "|('BREAD', 'JAM')                   |2                   |\n",
            "|('BREAD', 'JAM', 'MAGGI')          |2                   |\n",
            "|('BREAD', 'JAM', 'MILK')           |1                   |\n",
            "|('BREAD', 'JAM', 'TEA')            |1                   |\n",
            "|('BREAD', 'MAGGI')                 |3                   |\n",
            "|('BREAD', 'MAGGI', 'MILK')         |1                   |\n",
            "|('BREAD', 'MAGGI', 'TEA')          |2                   |\n",
            "|('BREAD', 'MILK')                  |4                   |\n",
            "|('BREAD', 'SUGER')                 |4                   |\n",
            "|('BREAD', 'TEA')                   |4                   |\n",
            "|('BREAD',)                         |13                  |\n",
            "|('COCK', 'COFFEE')                 |3                   |\n",
            "|('COCK', 'COFFEE', 'CORNFLAKES')   |2                   |\n",
            "|('COCK', 'CORNFLAKES')             |2                   |\n",
            "|('COCK',)                          |3                   |\n",
            "|('COFFEE', 'CORNFLAKES')           |4                   |\n",
            "|('COFFEE', 'CORNFLAKES', 'MILK')   |1                   |\n",
            "+-----------------------------------+--------------------+\n",
            "only showing top 50 rows\n",
            "\n"
          ]
        }
      ],
      "source": [
        "def reduce_patterns(v1, v2):\n",
        "    \"\"\"\n",
        "    TODO\n",
        "    \"\"\"\n",
        "    return v1+v2\n",
        "\n",
        "combined_patterns_rdd = patterns_rdd.reduceByKey(reduce_patterns)\n",
        "\n",
        "# Output as dataframe\n",
        "combined_patterns_rdd.map(format_tuples).toDF(['patterns', 'combined_occurrences']).sort(['patterns']).show(50, truncate=False)"
      ]
    },
    {
      "cell_type": "markdown",
      "metadata": {
        "id": "6BME1VugMa0F"
      },
      "source": [
        "### 2.3 Map to subpatterns (15 points)\n",
        "Ensuite, une autre fonction **map** doit être appliquée pour générer des sous-motifs. Encore une fois, les sous-motifs sont des éléments KEY-VALUE, où la KEY est également un sous-ensemble de produits. Cependant, la création de la KEY du sous-motif est une procédure différente. Cette fois, l'idée est de décomposer la liste des produits de chaque motif (KEY), de supprimer un produit à la fois et de produire la liste résultante en tant que nouvelle clé de sous-motif.\n",
        "\n",
        "Par exemple, pour un modèle donné $P$ avec trois produits, $p_1, p_2$ et $p_3$, trois nouvelles clés de sous-motifs vont être créées: (i) supprimer $p_1$ et retourner ($p_2, p_3$) ; (ii) supprimer $p_2$ et retourner ($p_1, p_3$); et (iii) supprimer $p_3$ et retourner ($p_1, p_2$).\n",
        "\n",
        "De plus, la structure VALUE du sous-motif sera également différente. Au lieu d'une seule valeur entière unique comme nous l'avons eu dans les motifs, cette fois un *tuple* devrait être créé pour le sous-motif VALUE. Ce tuple contient le produit qui a été retiré lors de la remise de la KEY et le nombre de fois que le motif est apparu. Par exemple ci-dessus, les valeurs doivent être ($p_1,v$), ($p_2,v$) et ($p_3,v $), respectivement, où $v$ est la VALEUR du motif.\n",
        "\n",
        "L'idée derrière les sous-motif est de créer **des règles** telles que : lorsque les produits de KEY ont été achetés, l'article présent dans la VALEUR a également été acheté *v* fois. En outre, chaque motif doit également produire un sous-motif dans lequel la clé est la même liste de produits du motif, mais la valeur est un tuple avec un produit nul (None) et le nombre de fois que le motif est apparu. Cet élément sera utile pour garder une trace du nombre de fois où un tel motif a été trouvé et sera utilisé ultérieurement pour calculer la valeur de confiance lors de la génération des règles d'association.\n",
        "\n",
        "Maintenant, implémentez la fonction **map_to_subpatterns** qui reçoit un motif et produit tous les sous-motif trouvés. Encore une fois, chaque entrée (motif) générera plus d'un élément KEY-VALUE, puis une fonction flatMap doit être appelée.\n",
        "\n",
        "Pour le \"grocery dataset\", la sortie attendue est:\n",
        "\n",
        "<pre style=\"align:center; border:1px solid black;font-size: 8pt; line-height: 1.1; height: auto; width: 20em; padding-left:5px\">\n",
        "<code>\n",
        "+-----------------------------------+-----------------+\n",
        "|subpatterns                        |rules            |\n",
        "+-----------------------------------+-----------------+\n",
        "|('BISCUIT', 'BREAD')               |(None, 4)        |\n",
        "|('BISCUIT', 'BREAD')               |('MILK', 2)      |\n",
        "|('BISCUIT', 'BREAD')               |('CORNFLAKES', 1)|\n",
        "|('BISCUIT', 'BREAD')               |('MAGGI', 1)     |\n",
        "|('BISCUIT', 'BREAD')               |('TEA', 1)       |\n",
        "|('BISCUIT', 'BREAD')               |('SUGER', 1)     |\n",
        "|('BISCUIT', 'BREAD', 'CORNFLAKES') |(None, 1)        |\n",
        "|('BISCUIT', 'BREAD', 'MAGGI')      |(None, 1)        |\n",
        "|('BISCUIT', 'BREAD', 'MILK')       |(None, 2)        |\n",
        "|('BISCUIT', 'BREAD', 'SUGER')      |(None, 1)        |\n",
        "|('BISCUIT', 'BREAD', 'TEA')        |(None, 1)        |\n",
        "|('BISCUIT', 'COCK')                |(None, 2)        |\n",
        "|('BISCUIT', 'COCK')                |('COFFEE', 2)    |\n",
        "|('BISCUIT', 'COCK')                |('CORNFLAKES', 2)|\n",
        "|('BISCUIT', 'COCK', 'COFFEE')      |(None, 2)        |\n",
        "|('BISCUIT', 'COCK', 'CORNFLAKES')  |(None, 2)        |\n",
        "|('BISCUIT', 'COFFEE')              |(None, 2)        |\n",
        "|('BISCUIT', 'COFFEE')              |('COCK', 2)      |\n",
        "|('BISCUIT', 'COFFEE')              |('CORNFLAKES', 2)|\n",
        "|('BISCUIT', 'COFFEE', 'CORNFLAKES')|(None, 2)        |\n",
        "|('BISCUIT', 'CORNFLAKES')          |(None, 3)        |\n",
        "|('BISCUIT', 'CORNFLAKES')          |('BREAD', 1)     |\n",
        "|('BISCUIT', 'CORNFLAKES')          |('MILK', 1)      |\n",
        "|('BISCUIT', 'CORNFLAKES')          |('COCK', 2)      |\n",
        "|('BISCUIT', 'CORNFLAKES')          |('COFFEE', 2)    |\n",
        "|('BISCUIT', 'CORNFLAKES', 'MILK')  |(None, 1)        |\n",
        "|('BISCUIT', 'MAGGI')               |(None, 2)        |\n",
        "|('BISCUIT', 'MAGGI')               |('TEA', 2)       |\n",
        "|('BISCUIT', 'MAGGI')               |('BREAD', 1)     |\n",
        "|('BISCUIT', 'MAGGI', 'TEA')        |(None, 2)        |\n",
        "|('BISCUIT', 'MILK')                |(None, 2)        |\n",
        "|('BISCUIT', 'MILK')                |('BREAD', 2)     |\n",
        "|('BISCUIT', 'MILK')                |('CORNFLAKES', 1)|\n",
        "|('BISCUIT', 'SUGER')               |(None, 1)        |\n",
        "|('BISCUIT', 'SUGER')               |('BREAD', 1)     |\n",
        "|('BISCUIT', 'TEA')                 |(None, 2)        |\n",
        "|('BISCUIT', 'TEA')                 |('MAGGI', 2)     |\n",
        "|('BISCUIT', 'TEA')                 |('BREAD', 1)     |\n",
        "|('BISCUIT',)                       |(None, 7)        |\n",
        "|('BISCUIT',)                       |('BREAD', 4)     |\n",
        "|('BISCUIT',)                       |('MILK', 2)      |\n",
        "|('BISCUIT',)                       |('CORNFLAKES', 3)|\n",
        "|('BISCUIT',)                       |('MAGGI', 2)     |\n",
        "|('BISCUIT',)                       |('TEA', 2)       |\n",
        "|('BISCUIT',)                       |('COCK', 2)      |\n",
        "|('BISCUIT',)                       |('COFFEE', 2)    |\n",
        "|('BISCUIT',)                       |('SUGER', 1)     |\n",
        "|('BOURNVITA', 'BREAD')             |(None, 3)        |\n",
        "|('BOURNVITA', 'BREAD')             |('TEA', 2)       |\n",
        "|('BOURNVITA', 'BREAD')             |('SUGER', 1)     |\n",
        "+-----------------------------------+-----------------+\n",
        "</code>\n",
        "</pre>\n",
        "\n",
        "Votre sortie devra ainsi être **exactement** la même, sans quoi aucun point ne pourra vous être attribué pour cette question."
      ]
    },
    {
      "cell_type": "code",
      "execution_count": 9,
      "metadata": {
        "colab": {
          "base_uri": "https://localhost:8080/"
        },
        "id": "t8aLrdMuMa0G",
        "outputId": "f9a9a7be-daa5-448c-bb2c-0f85aa94332f",
        "tags": []
      },
      "outputs": [
        {
          "name": "stdout",
          "output_type": "stream",
          "text": [
            "+-----------------------------------+-----------------+\n",
            "|subpatterns                        |rules            |\n",
            "+-----------------------------------+-----------------+\n",
            "|('BISCUIT', 'BREAD')               |(None, 4)        |\n",
            "|('BISCUIT', 'BREAD')               |('MILK', 2)      |\n",
            "|('BISCUIT', 'BREAD')               |('CORNFLAKES', 1)|\n",
            "|('BISCUIT', 'BREAD')               |('MAGGI', 1)     |\n",
            "|('BISCUIT', 'BREAD')               |('TEA', 1)       |\n",
            "|('BISCUIT', 'BREAD')               |('SUGER', 1)     |\n",
            "|('BISCUIT', 'BREAD', 'CORNFLAKES') |(None, 1)        |\n",
            "|('BISCUIT', 'BREAD', 'MAGGI')      |(None, 1)        |\n",
            "|('BISCUIT', 'BREAD', 'MILK')       |(None, 2)        |\n",
            "|('BISCUIT', 'BREAD', 'SUGER')      |(None, 1)        |\n",
            "|('BISCUIT', 'BREAD', 'TEA')        |(None, 1)        |\n",
            "|('BISCUIT', 'COCK')                |(None, 2)        |\n",
            "|('BISCUIT', 'COCK')                |('COFFEE', 2)    |\n",
            "|('BISCUIT', 'COCK')                |('CORNFLAKES', 2)|\n",
            "|('BISCUIT', 'COCK', 'COFFEE')      |(None, 2)        |\n",
            "|('BISCUIT', 'COCK', 'CORNFLAKES')  |(None, 2)        |\n",
            "|('BISCUIT', 'COFFEE')              |(None, 2)        |\n",
            "|('BISCUIT', 'COFFEE')              |('COCK', 2)      |\n",
            "|('BISCUIT', 'COFFEE')              |('CORNFLAKES', 2)|\n",
            "|('BISCUIT', 'COFFEE', 'CORNFLAKES')|(None, 2)        |\n",
            "|('BISCUIT', 'CORNFLAKES')          |(None, 3)        |\n",
            "|('BISCUIT', 'CORNFLAKES')          |('BREAD', 1)     |\n",
            "|('BISCUIT', 'CORNFLAKES')          |('MILK', 1)      |\n",
            "|('BISCUIT', 'CORNFLAKES')          |('COCK', 2)      |\n",
            "|('BISCUIT', 'CORNFLAKES')          |('COFFEE', 2)    |\n",
            "|('BISCUIT', 'CORNFLAKES', 'MILK')  |(None, 1)        |\n",
            "|('BISCUIT', 'MAGGI')               |(None, 2)        |\n",
            "|('BISCUIT', 'MAGGI')               |('TEA', 2)       |\n",
            "|('BISCUIT', 'MAGGI')               |('BREAD', 1)     |\n",
            "|('BISCUIT', 'MAGGI', 'TEA')        |(None, 2)        |\n",
            "|('BISCUIT', 'MILK')                |(None, 2)        |\n",
            "|('BISCUIT', 'MILK')                |('BREAD', 2)     |\n",
            "|('BISCUIT', 'MILK')                |('CORNFLAKES', 1)|\n",
            "|('BISCUIT', 'SUGER')               |(None, 1)        |\n",
            "|('BISCUIT', 'SUGER')               |('BREAD', 1)     |\n",
            "|('BISCUIT', 'TEA')                 |('MAGGI', 2)     |\n",
            "|('BISCUIT', 'TEA')                 |('BREAD', 1)     |\n",
            "|('BISCUIT', 'TEA')                 |(None, 2)        |\n",
            "|('BISCUIT',)                       |('COFFEE', 2)    |\n",
            "|('BISCUIT',)                       |(None, 7)        |\n",
            "|('BISCUIT',)                       |('MILK', 2)      |\n",
            "|('BISCUIT',)                       |('BREAD', 4)     |\n",
            "|('BISCUIT',)                       |('COCK', 2)      |\n",
            "|('BISCUIT',)                       |('CORNFLAKES', 3)|\n",
            "|('BISCUIT',)                       |('MAGGI', 2)     |\n",
            "|('BISCUIT',)                       |('TEA', 2)       |\n",
            "|('BISCUIT',)                       |('SUGER', 1)     |\n",
            "|('BOURNVITA', 'BREAD')             |(None, 3)        |\n",
            "|('BOURNVITA', 'BREAD')             |('TEA', 2)       |\n",
            "|('BOURNVITA', 'BREAD')             |('SUGER', 1)     |\n",
            "+-----------------------------------+-----------------+\n",
            "only showing top 50 rows\n",
            "\n"
          ]
        }
      ],
      "source": [
        "from copy import deepcopy\n",
        "def map_to_subpatterns(pattern):\n",
        "    \"\"\"\n",
        "    TODO\n",
        "    \"\"\"\n",
        "    key,value=pattern\n",
        "    subpatterns=[]\n",
        "\n",
        "    #ajout des sous-motifs avec la clé originale et la valeur(None, occurrence)\n",
        "    subpatterns.append((key,(None,value)))\n",
        "\n",
        "    #Generation des sous-motifs en retirant un produit à la fois\n",
        "    for i in range(len(key)): # Pour chaque position dans la clé\n",
        "      subpattern_key=key[:i] + key[i+1:]# Génère un sous-motif en retirant le i-ème élément de la clé\n",
        "      subpattern_value=(key[i],value) # Crée la valeur du sous-motif avec l'élément retiré et la valeur d'origine\n",
        "      subpatterns.append((subpattern_key,subpattern_value))# Ajoute le sous-motif à la liste des sous-motifs\n",
        "\n",
        "    return  subpatterns\n",
        "\n",
        "\n",
        "subpatterns_rdd = combined_patterns_rdd.flatMap(map_to_subpatterns)\n",
        "\n",
        "# Output as dataframe\n",
        "subpatterns_rdd.map(format_tuples).toDF(['subpatterns', 'rules']).sort(['subpatterns']).show(50, truncate=False)"
      ]
    },
    {
      "cell_type": "markdown",
      "metadata": {
        "id": "jl6TWh8rMa0J"
      },
      "source": [
        "### 2.4 Reduce Subpatterns (2.5 points)\n",
        "\n",
        "Encore une fois, une fonction **reduce** est nécessaire pour regrouper tous les sous-motif par leur KEY. L'objectif de cette procédure de réduction est de créer une liste de toutes les **règles** apparues dans KEY. Par conséquent, la sortie attendue résultant de cette fonction de réduction est également un élément KEY-VALUE, où la clé est la KEY du sous-motif et la valeur est un groupe contenant toutes les valeurs des sous-motif qui partagent la même clé.\n",
        "\n",
        "Pour le \"grocery dataset\", la sortie attendue est:\n",
        "\n",
        "<pre style=\"align:center; border:1px solid black;font-size: 8pt; line-height: 1.1; height: auto; width: 50em; padding-left:5px\">\n",
        "<code>\n",
        "+-----------------------------------+--------------------------------------------------------------------------------------------------------------------------------------------------------------+\n",
        "|subpatterns                        |combined_rules                                                                                                                                                |\n",
        "+-----------------------------------+--------------------------------------------------------------------------------------------------------------------------------------------------------------+\n",
        "|('BISCUIT', 'BREAD')               |[(None, 4), ('MILK', 2), ('CORNFLAKES', 1), ('MAGGI', 1), ('TEA', 1), ('SUGER', 1)]                                                                           |\n",
        "|('BISCUIT', 'BREAD', 'CORNFLAKES') |[(None, 1)]                                                                                                                                                   |\n",
        "|('BISCUIT', 'BREAD', 'MAGGI')      |[(None, 1)]                                                                                                                                                   |\n",
        "|('BISCUIT', 'BREAD', 'MILK')       |[(None, 2)]                                                                                                                                                   |\n",
        "|('BISCUIT', 'BREAD', 'SUGER')      |[(None, 1)]                                                                                                                                                   |\n",
        "|('BISCUIT', 'BREAD', 'TEA')        |[(None, 1)]                                                                                                                                                   |\n",
        "|('BISCUIT', 'COCK')                |[(None, 2), ('COFFEE', 2), ('CORNFLAKES', 2)]                                                                                                                 |\n",
        "|('BISCUIT', 'COCK', 'COFFEE')      |[(None, 2)]                                                                                                                                                   |\n",
        "|('BISCUIT', 'COCK', 'CORNFLAKES')  |[(None, 2)]                                                                                                                                                   |\n",
        "|('BISCUIT', 'COFFEE')              |[(None, 2), ('COCK', 2), ('CORNFLAKES', 2)]                                                                                                                   |\n",
        "|('BISCUIT', 'COFFEE', 'CORNFLAKES')|[(None, 2)]                                                                                                                                                   |\n",
        "|('BISCUIT', 'CORNFLAKES')          |[(None, 3), ('BREAD', 1), ('MILK', 1), ('COCK', 2), ('COFFEE', 2)]                                                                                            |\n",
        "|('BISCUIT', 'CORNFLAKES', 'MILK')  |[(None, 1)]                                                                                                                                                   |\n",
        "|('BISCUIT', 'MAGGI')               |[(None, 2), ('TEA', 2), ('BREAD', 1)]                                                                                                                         |\n",
        "|('BISCUIT', 'MAGGI', 'TEA')        |[(None, 2)]                                                                                                                                                   |\n",
        "|('BISCUIT', 'MILK')                |[(None, 2), ('BREAD', 2), ('CORNFLAKES', 1)]                                                                                                                  |\n",
        "|('BISCUIT', 'SUGER')               |[(None, 1), ('BREAD', 1)]                                                                                                                                     |\n",
        "|('BISCUIT', 'TEA')                 |[(None, 2), ('MAGGI', 2), ('BREAD', 1)]                                                                                                                       |\n",
        "|('BISCUIT',)                       |[(None, 7), ('BREAD', 4), ('MILK', 2), ('CORNFLAKES', 3), ('MAGGI', 2), ('TEA', 2), ('COCK', 2), ('COFFEE', 2), ('SUGER', 1)]                                 |\n",
        "|('BOURNVITA', 'BREAD')             |[(None, 3), ('TEA', 2), ('SUGER', 1)]                                                                                                                         |\n",
        "|('BOURNVITA', 'BREAD', 'SUGER')    |[(None, 1)]                                                                                                                                                   |\n",
        "|('BOURNVITA', 'BREAD', 'TEA')      |[(None, 2)]                                                                                                                                                   |\n",
        "|('BOURNVITA', 'COFFEE')            |[(None, 1), ('SUGER', 1)]                                                                                                                                     |\n",
        "|('BOURNVITA', 'COFFEE', 'SUGER')   |[(None, 1)]                                                                                                                                                   |\n",
        "|('BOURNVITA', 'SUGER')             |[(None, 2), ('COFFEE', 1), ('BREAD', 1)]                                                                                                                      |\n",
        "|('BOURNVITA', 'TEA')               |[(None, 2), ('BREAD', 2)]                                                                                                                                     |\n",
        "|('BOURNVITA',)                     |[(None, 4), ('BREAD', 3), ('TEA', 2), ('COFFEE', 1), ('SUGER', 2)]                                                                                            |\n",
        "|('BREAD', 'COCK')                  |[(None, 1), ('COFFEE', 1)]                                                                                                                                    |\n",
        "|('BREAD', 'COCK', 'COFFEE')        |[(None, 1)]                                                                                                                                                   |\n",
        "|('BREAD', 'COFFEE')                |[(None, 3), ('COCK', 1), ('SUGER', 2)]                                                                                                                        |\n",
        "|('BREAD', 'COFFEE', 'SUGER')       |[(None, 2)]                                                                                                                                                   |\n",
        "|('BREAD', 'CORNFLAKES')            |[(None, 1), ('BISCUIT', 1), ('MILK', 1)]                                                                                                                      |\n",
        "|('BREAD', 'CORNFLAKES', 'MILK')    |[(None, 1)]                                                                                                                                                   |\n",
        "|('BREAD', 'JAM')                   |[(None, 2), ('MAGGI', 2), ('MILK', 1), ('TEA', 1)]                                                                                                            |\n",
        "|('BREAD', 'JAM', 'MAGGI')          |[(None, 2)]                                                                                                                                                   |\n",
        "|('BREAD', 'JAM', 'MILK')           |[(None, 1)]                                                                                                                                                   |\n",
        "|('BREAD', 'JAM', 'TEA')            |[(None, 1)]                                                                                                                                                   |\n",
        "|('BREAD', 'MAGGI')                 |[(None, 3), ('JAM', 2), ('MILK', 1), ('BISCUIT', 1), ('TEA', 2)]                                                                                              |\n",
        "|('BREAD', 'MAGGI', 'MILK')         |[(None, 1)]                                                                                                                                                   |\n",
        "|('BREAD', 'MAGGI', 'TEA')          |[(None, 2)]                                                                                                                                                   |\n",
        "|('BREAD', 'MILK')                  |[(None, 4), ('BISCUIT', 2), ('CORNFLAKES', 1), ('JAM', 1), ('MAGGI', 1)]                                                                                      |\n",
        "|('BREAD', 'SUGER')                 |[(None, 4), ('BISCUIT', 1), ('BOURNVITA', 1), ('COFFEE', 2)]                                                                                                  |\n",
        "|('BREAD', 'TEA')                   |[(None, 4), ('BOURNVITA', 2), ('BISCUIT', 1), ('MAGGI', 2), ('JAM', 1)]                                                                                       |\n",
        "|('BREAD',)                         |[(None, 13), ('BISCUIT', 4), ('MILK', 4), ('CORNFLAKES', 1), ('BOURNVITA', 3), ('TEA', 4), ('JAM', 2), ('MAGGI', 3), ('COCK', 1), ('COFFEE', 3), ('SUGER', 4)]|\n",
        "|('COCK', 'COFFEE')                 |[(None, 3), ('BISCUIT', 2), ('CORNFLAKES', 2), ('BREAD', 1)]                                                                                                  |\n",
        "|('COCK', 'COFFEE', 'CORNFLAKES')   |[(None, 2)]                                                                                                                                                   |\n",
        "|('COCK', 'CORNFLAKES')             |[(None, 2), ('BISCUIT', 2), ('COFFEE', 2)]                                                                                                                    |\n",
        "|('COCK',)                          |[(None, 3), ('BISCUIT', 2), ('COFFEE', 3), ('CORNFLAKES', 2), ('BREAD', 1)]                                                                                   |\n",
        "|('COFFEE', 'CORNFLAKES')           |[(None, 4), ('BISCUIT', 2), ('COCK', 2), ('SUGER', 1), ('MILK', 1), ('TEA', 1)]                                                                               |\n",
        "|('COFFEE', 'CORNFLAKES', 'MILK')   |[(None, 1)]                                                                                                                                                   |\n",
        "+-----------------------------------+--------------------------------------------------------------------------------------------------------------------------------------------------------------+\n",
        "</code>\n",
        "</pre>\n",
        "\n",
        "Votre sortie devra ainsi être **exactement** la même, sans quoi aucun point ne pourra vous être attribué pour cette question.\n"
      ]
    },
    {
      "cell_type": "code",
      "execution_count": 10,
      "metadata": {
        "colab": {
          "base_uri": "https://localhost:8080/"
        },
        "id": "LOP-SVIhMa0J",
        "outputId": "d1b324a1-181d-4e04-8ee3-f03a1dfa445d",
        "tags": []
      },
      "outputs": [
        {
          "name": "stdout",
          "output_type": "stream",
          "text": [
            "+-----------------------------------+----------------------------------------------------------------------------------------+\n",
            "|                        subpatterns|                                                                          combined_rules|\n",
            "+-----------------------------------+----------------------------------------------------------------------------------------+\n",
            "|               ('BISCUIT', 'BREAD')|     [(None, 4), ('MILK', 2), ('CORNFLAKES', 1), ('MAGGI', 1), ('TEA', 1), ('SUGER', 1)]|\n",
            "| ('BISCUIT', 'BREAD', 'CORNFLAKES')|                                                                             [(None, 1)]|\n",
            "|      ('BISCUIT', 'BREAD', 'MAGGI')|                                                                             [(None, 1)]|\n",
            "|       ('BISCUIT', 'BREAD', 'MILK')|                                                                             [(None, 2)]|\n",
            "|      ('BISCUIT', 'BREAD', 'SUGER')|                                                                             [(None, 1)]|\n",
            "|        ('BISCUIT', 'BREAD', 'TEA')|                                                                             [(None, 1)]|\n",
            "|                ('BISCUIT', 'COCK')|                                           [(None, 2), ('COFFEE', 2), ('CORNFLAKES', 2)]|\n",
            "|      ('BISCUIT', 'COCK', 'COFFEE')|                                                                             [(None, 2)]|\n",
            "|  ('BISCUIT', 'COCK', 'CORNFLAKES')|                                                                             [(None, 2)]|\n",
            "|              ('BISCUIT', 'COFFEE')|                                             [(None, 2), ('COCK', 2), ('CORNFLAKES', 2)]|\n",
            "|('BISCUIT', 'COFFEE', 'CORNFLAKES')|                                                                             [(None, 2)]|\n",
            "|          ('BISCUIT', 'CORNFLAKES')|                      [(None, 3), ('BREAD', 1), ('MILK', 1), ('COCK', 2), ('COFFEE', 2)]|\n",
            "|  ('BISCUIT', 'CORNFLAKES', 'MILK')|                                                                             [(None, 1)]|\n",
            "|               ('BISCUIT', 'MAGGI')|                                                   [(None, 2), ('TEA', 2), ('BREAD', 1)]|\n",
            "|        ('BISCUIT', 'MAGGI', 'TEA')|                                                                             [(None, 2)]|\n",
            "|                ('BISCUIT', 'MILK')|                                            [(None, 2), ('BREAD', 2), ('CORNFLAKES', 1)]|\n",
            "|               ('BISCUIT', 'SUGER')|                                                               [(None, 1), ('BREAD', 1)]|\n",
            "|                 ('BISCUIT', 'TEA')|                                                 [(None, 2), ('MAGGI', 2), ('BREAD', 1)]|\n",
            "|                       ('BISCUIT',)|[(None, 7), ('BREAD', 4), ('MILK', 2), ('CORNFLAKES', 3), ('MAGGI', 2), ('TEA', 2), (...|\n",
            "|             ('BOURNVITA', 'BREAD')|                                                   [(None, 3), ('TEA', 2), ('SUGER', 1)]|\n",
            "|    ('BOURNVITA', 'BREAD', 'SUGER')|                                                                             [(None, 1)]|\n",
            "|      ('BOURNVITA', 'BREAD', 'TEA')|                                                                             [(None, 2)]|\n",
            "|            ('BOURNVITA', 'COFFEE')|                                                               [(None, 1), ('SUGER', 1)]|\n",
            "|   ('BOURNVITA', 'COFFEE', 'SUGER')|                                                                             [(None, 1)]|\n",
            "|             ('BOURNVITA', 'SUGER')|                                                [(None, 2), ('COFFEE', 1), ('BREAD', 1)]|\n",
            "|               ('BOURNVITA', 'TEA')|                                                               [(None, 2), ('BREAD', 2)]|\n",
            "|                     ('BOURNVITA',)|                      [(None, 4), ('BREAD', 3), ('TEA', 2), ('COFFEE', 1), ('SUGER', 2)]|\n",
            "|                  ('BREAD', 'COCK')|                                                              [(None, 1), ('COFFEE', 1)]|\n",
            "|        ('BREAD', 'COCK', 'COFFEE')|                                                                             [(None, 1)]|\n",
            "|                ('BREAD', 'COFFEE')|                                                  [(None, 3), ('COCK', 1), ('SUGER', 2)]|\n",
            "|       ('BREAD', 'COFFEE', 'SUGER')|                                                                             [(None, 2)]|\n",
            "|            ('BREAD', 'CORNFLAKES')|                                                [(None, 1), ('BISCUIT', 1), ('MILK', 1)]|\n",
            "|    ('BREAD', 'CORNFLAKES', 'MILK')|                                                                             [(None, 1)]|\n",
            "|                   ('BREAD', 'JAM')|                                      [(None, 2), ('MAGGI', 2), ('MILK', 1), ('TEA', 1)]|\n",
            "|          ('BREAD', 'JAM', 'MAGGI')|                                                                             [(None, 2)]|\n",
            "|           ('BREAD', 'JAM', 'MILK')|                                                                             [(None, 1)]|\n",
            "|            ('BREAD', 'JAM', 'TEA')|                                                                             [(None, 1)]|\n",
            "|                 ('BREAD', 'MAGGI')|                        [(None, 3), ('JAM', 2), ('MILK', 1), ('BISCUIT', 1), ('TEA', 2)]|\n",
            "|         ('BREAD', 'MAGGI', 'MILK')|                                                                             [(None, 1)]|\n",
            "|          ('BREAD', 'MAGGI', 'TEA')|                                                                             [(None, 2)]|\n",
            "|                  ('BREAD', 'MILK')|                [(None, 4), ('BISCUIT', 2), ('CORNFLAKES', 1), ('JAM', 1), ('MAGGI', 1)]|\n",
            "|                 ('BREAD', 'SUGER')|                            [(None, 4), ('BISCUIT', 1), ('BOURNVITA', 1), ('COFFEE', 2)]|\n",
            "|                   ('BREAD', 'TEA')|                 [(None, 4), ('BOURNVITA', 2), ('BISCUIT', 1), ('MAGGI', 2), ('JAM', 1)]|\n",
            "|                         ('BREAD',)|[(None, 13), ('BISCUIT', 4), ('MILK', 4), ('CORNFLAKES', 1), ('BOURNVITA', 3), ('TEA'...|\n",
            "|                 ('COCK', 'COFFEE')|                            [(None, 3), ('BISCUIT', 2), ('CORNFLAKES', 2), ('BREAD', 1)]|\n",
            "|   ('COCK', 'COFFEE', 'CORNFLAKES')|                                                                             [(None, 2)]|\n",
            "|             ('COCK', 'CORNFLAKES')|                                              [(None, 2), ('BISCUIT', 2), ('COFFEE', 2)]|\n",
            "|                          ('COCK',)|             [(None, 3), ('BISCUIT', 2), ('COFFEE', 3), ('CORNFLAKES', 2), ('BREAD', 1)]|\n",
            "|           ('COFFEE', 'CORNFLAKES')|         [(None, 4), ('BISCUIT', 2), ('COCK', 2), ('SUGER', 1), ('MILK', 1), ('TEA', 1)]|\n",
            "|   ('COFFEE', 'CORNFLAKES', 'MILK')|                                                                             [(None, 1)]|\n",
            "+-----------------------------------+----------------------------------------------------------------------------------------+\n",
            "only showing top 50 rows\n",
            "\n"
          ]
        }
      ],
      "source": [
        "# Regroupe tous les sous-motifs par clé et transforme les valeurs associées en liste\n",
        "combined_rules = subpatterns_rdd.groupByKey().mapValues(list)#TODO\n",
        "\n",
        "# Output as dataframe\n",
        "combined_rules.map(format_tuples).toDF(['subpatterns', 'combined_rules']).sort(['subpatterns']).show(50, truncate=88)"
      ]
    },
    {
      "cell_type": "markdown",
      "metadata": {
        "id": "Uh69x3a8Ma0P"
      },
      "source": [
        "### 2.5. Map to Association Rules (15 points)\n",
        "\n",
        "Enfin, la dernière étape de l'algorithme consiste à créer les règles d'association pour effectuer la MBA. Le but de cette fonction Map est de calculer le niveau **de confiance** de l'achat d'un produit, sachant qu'il y a déjà un ensemble de produits dans le panier. Ainsi, la KEY du sous-motif est l'ensemble des produits placés dans le panier et, pour chaque produit présent dans la liste des règles, c'est-à-dire dans la VALEUR, la confiance peut être calculée comme :\n",
        "\n",
        "\\begin{align*}\n",
        "\\frac{\\text{nombre de fois où le produit a été acheté avec KEY}}{\\text{nombre de fois où la KEY est apparue}}\n",
        "\\end{align*}\n",
        "\n",
        "Pour l'exemple donné dans la figure \"workflow\", *le café* a été acheté 20 fois et, dans 17 d'entre eux, le *lait* a été acheté ensemble. Ensuite, le niveau de confiance pour acheter du *lait* sachant que *le café* est dans le panier est $\\frac{17}{20}=0,85$, ce qui signifie que dans 85% des cas où le café a été acheté, le lait a aussi été acheté.\n",
        "\n",
        "Implémentez la fonction **map_to_assoc_rules** qui calcule le niveau de confiance pour chaque sous-motif.\n",
        "\n",
        "Pour le \"grocery dataset\", la sortie attendue est:\n",
        "\n",
        "<pre style=\"align:center; border:1px solid black;font-size: 8pt; line-height: 1.1; height: auto; width: 57em; padding-left:5px\">\n",
        "<code>\n",
        "+-----------------------------------+----------------------------------------------------------------------------------------------------------------------------------------------------------------------------------------------------------------------------------------------------------------------------------------------------------------------------------+\n",
        "|patterns                           |association_rules                                                                                                                                                                                                                                                                                                                 |\n",
        "+-----------------------------------+----------------------------------------------------------------------------------------------------------------------------------------------------------------------------------------------------------------------------------------------------------------------------------------------------------------------------------+\n",
        "|('BISCUIT', 'BREAD')               |[('MILK', 0.5), ('CORNFLAKES', 0.25), ('MAGGI', 0.25), ('TEA', 0.25), ('SUGER', 0.25)]                                                                                                                                                                                                                                            |\n",
        "|('BISCUIT', 'BREAD', 'CORNFLAKES') |[]                                                                                                                                                                                                                                                                                                                                |\n",
        "|('BISCUIT', 'BREAD', 'MAGGI')      |[]                                                                                                                                                                                                                                                                                                                                |\n",
        "|('BISCUIT', 'BREAD', 'MILK')       |[]                                                                                                                                                                                                                                                                                                                                |\n",
        "|('BISCUIT', 'BREAD', 'SUGER')      |[]                                                                                                                                                                                                                                                                                                                                |\n",
        "|('BISCUIT', 'BREAD', 'TEA')        |[]                                                                                                                                                                                                                                                                                                                                |\n",
        "|('BISCUIT', 'COCK')                |[('COFFEE', 1.0), ('CORNFLAKES', 1.0)]                                                                                                                                                                                                                                                                                            |\n",
        "|('BISCUIT', 'COCK', 'COFFEE')      |[]                                                                                                                                                                                                                                                                                                                                |\n",
        "|('BISCUIT', 'COCK', 'CORNFLAKES')  |[]                                                                                                                                                                                                                                                                                                                                |\n",
        "|('BISCUIT', 'COFFEE')              |[('COCK', 1.0), ('CORNFLAKES', 1.0)]                                                                                                                                                                                                                                                                                              |\n",
        "|('BISCUIT', 'COFFEE', 'CORNFLAKES')|[]                                                                                                                                                                                                                                                                                                                                |\n",
        "|('BISCUIT', 'CORNFLAKES')          |[('BREAD', 0.3333333333333333), ('MILK', 0.3333333333333333), ('COCK', 0.6666666666666666), ('COFFEE', 0.6666666666666666)]                                                                                                                                                                                                       |\n",
        "|('BISCUIT', 'CORNFLAKES', 'MILK')  |[]                                                                                                                                                                                                                                                                                                                                |\n",
        "|('BISCUIT', 'MAGGI')               |[('TEA', 1.0), ('BREAD', 0.5)]                                                                                                                                                                                                                                                                                                    |\n",
        "|('BISCUIT', 'MAGGI', 'TEA')        |[]                                                                                                                                                                                                                                                                                                                                |\n",
        "|('BISCUIT', 'MILK')                |[('BREAD', 1.0), ('CORNFLAKES', 0.5)]                                                                                                                                                                                                                                                                                             |\n",
        "|('BISCUIT', 'SUGER')               |[('BREAD', 1.0)]                                                                                                                                                                                                                                                                                                                  |\n",
        "|('BISCUIT', 'TEA')                 |[('MAGGI', 1.0), ('BREAD', 0.5)]                                                                                                                                                                                                                                                                                                  |\n",
        "|('BISCUIT',)                       |[('BREAD', 0.5714285714285714), ('MILK', 0.2857142857142857), ('CORNFLAKES', 0.42857142857142855), ('MAGGI', 0.2857142857142857), ('TEA', 0.2857142857142857), ('COCK', 0.2857142857142857), ('COFFEE', 0.2857142857142857), ('SUGER', 0.14285714285714285)]                                                                      |\n",
        "|('BOURNVITA', 'BREAD')             |[('TEA', 0.6666666666666666), ('SUGER', 0.3333333333333333)]                                                                                                                                                                                                                                                                      |\n",
        "|('BOURNVITA', 'BREAD', 'SUGER')    |[]                                                                                                                                                                                                                                                                                                                                |\n",
        "|('BOURNVITA', 'BREAD', 'TEA')      |[]                                                                                                                                                                                                                                                                                                                                |\n",
        "|('BOURNVITA', 'COFFEE')            |[('SUGER', 1.0)]                                                                                                                                                                                                                                                                                                                  |\n",
        "|('BOURNVITA', 'COFFEE', 'SUGER')   |[]                                                                                                                                                                                                                                                                                                                                |\n",
        "|('BOURNVITA', 'SUGER')             |[('COFFEE', 0.5), ('BREAD', 0.5)]                                                                                                                                                                                                                                                                                                 |\n",
        "|('BOURNVITA', 'TEA')               |[('BREAD', 1.0)]                                                                                                                                                                                                                                                                                                                  |\n",
        "|('BOURNVITA',)                     |[('BREAD', 0.75), ('TEA', 0.5), ('COFFEE', 0.25), ('SUGER', 0.5)]                                                                                                                                                                                                                                                                 |\n",
        "|('BREAD', 'COCK')                  |[('COFFEE', 1.0)]                                                                                                                                                                                                                                                                                                                 |\n",
        "|('BREAD', 'COCK', 'COFFEE')        |[]                                                                                                                                                                                                                                                                                                                                |\n",
        "|('BREAD', 'COFFEE')                |[('COCK', 0.3333333333333333), ('SUGER', 0.6666666666666666)]                                                                                                                                                                                                                                                                     |\n",
        "|('BREAD', 'COFFEE', 'SUGER')       |[]                                                                                                                                                                                                                                                                                                                                |\n",
        "|('BREAD', 'CORNFLAKES')            |[('BISCUIT', 1.0), ('MILK', 1.0)]                                                                                                                                                                                                                                                                                                 |\n",
        "|('BREAD', 'CORNFLAKES', 'MILK')    |[]                                                                                                                                                                                                                                                                                                                                |\n",
        "|('BREAD', 'JAM')                   |[('MAGGI', 1.0), ('MILK', 0.5), ('TEA', 0.5)]                                                                                                                                                                                                                                                                                     |\n",
        "|('BREAD', 'JAM', 'MAGGI')          |[]                                                                                                                                                                                                                                                                                                                                |\n",
        "|('BREAD', 'JAM', 'MILK')           |[]                                                                                                                                                                                                                                                                                                                                |\n",
        "|('BREAD', 'JAM', 'TEA')            |[]                                                                                                                                                                                                                                                                                                                                |\n",
        "|('BREAD', 'MAGGI')                 |[('JAM', 0.6666666666666666), ('MILK', 0.3333333333333333), ('BISCUIT', 0.3333333333333333), ('TEA', 0.6666666666666666)]                                                                                                                                                                                                         |\n",
        "|('BREAD', 'MAGGI', 'MILK')         |[]                                                                                                                                                                                                                                                                                                                                |\n",
        "|('BREAD', 'MAGGI', 'TEA')          |[]                                                                                                                                                                                                                                                                                                                                |\n",
        "|('BREAD', 'MILK')                  |[('BISCUIT', 0.5), ('CORNFLAKES', 0.25), ('JAM', 0.25), ('MAGGI', 0.25)]                                                                                                                                                                                                                                                          |\n",
        "|('BREAD', 'SUGER')                 |[('BISCUIT', 0.25), ('BOURNVITA', 0.25), ('COFFEE', 0.5)]                                                                                                                                                                                                                                                                         |\n",
        "|('BREAD', 'TEA')                   |[('BOURNVITA', 0.5), ('BISCUIT', 0.25), ('MAGGI', 0.5), ('JAM', 0.25)]                                                                                                                                                                                                                                                            |\n",
        "|('BREAD',)                         |[('BISCUIT', 0.3076923076923077), ('MILK', 0.3076923076923077), ('CORNFLAKES', 0.07692307692307693), ('BOURNVITA', 0.23076923076923078), ('TEA', 0.3076923076923077), ('JAM', 0.15384615384615385), ('MAGGI', 0.23076923076923078), ('COCK', 0.07692307692307693), ('COFFEE', 0.23076923076923078), ('SUGER', 0.3076923076923077)]|\n",
        "|('COCK', 'COFFEE')                 |[('BISCUIT', 0.6666666666666666), ('CORNFLAKES', 0.6666666666666666), ('BREAD', 0.3333333333333333)]                                                                                                                                                                                                                              |\n",
        "|('COCK', 'COFFEE', 'CORNFLAKES')   |[]                                                                                                                                                                                                                                                                                                                                |\n",
        "|('COCK', 'CORNFLAKES')             |[('BISCUIT', 1.0), ('COFFEE', 1.0)]                                                                                                                                                                                                                                                                                               |\n",
        "|('COCK',)                          |[('BISCUIT', 0.6666666666666666), ('COFFEE', 1.0), ('CORNFLAKES', 0.6666666666666666), ('BREAD', 0.3333333333333333)]                                                                                                                                                                                                             |\n",
        "|('COFFEE', 'CORNFLAKES')           |[('BISCUIT', 0.5), ('COCK', 0.5), ('SUGER', 0.25), ('MILK', 0.25), ('TEA', 0.25)]                                                                                                                                                                                                                                                 |\n",
        "|('COFFEE', 'CORNFLAKES', 'MILK')   |[]                                                                                                                                                                                                                                                                                                                                |\n",
        "+-----------------------------------+----------------------------------------------------------------------------------------------------------------------------------------------------------------------------------------------------------------------------------------------------------------------------------------------------------------------------------+\n",
        "\n",
        "</code>\n",
        "</pre>\n",
        "\n",
        "Votre sortie devra ainsi être **exactement** la même, sans quoi aucun point ne pourra vous être attribué pour cette question."
      ]
    },
    {
      "cell_type": "code",
      "execution_count": 11,
      "metadata": {
        "colab": {
          "base_uri": "https://localhost:8080/"
        },
        "id": "DPrbn5CfMa0P",
        "outputId": "72d34ffa-acba-4034-9f9c-8f5ee2c30078",
        "tags": []
      },
      "outputs": [
        {
          "name": "stdout",
          "output_type": "stream",
          "text": [
            "+-----------------------------------+----------------------------------------------------------------------------------------+\n",
            "|                           patterns|                                                                       association_rules|\n",
            "+-----------------------------------+----------------------------------------------------------------------------------------+\n",
            "|               ('BISCUIT', 'BREAD')|  [('MILK', 0.5), ('CORNFLAKES', 0.25), ('MAGGI', 0.25), ('TEA', 0.25), ('SUGER', 0.25)]|\n",
            "| ('BISCUIT', 'BREAD', 'CORNFLAKES')|                                                                                      []|\n",
            "|      ('BISCUIT', 'BREAD', 'MAGGI')|                                                                                      []|\n",
            "|       ('BISCUIT', 'BREAD', 'MILK')|                                                                                      []|\n",
            "|      ('BISCUIT', 'BREAD', 'SUGER')|                                                                                      []|\n",
            "|        ('BISCUIT', 'BREAD', 'TEA')|                                                                                      []|\n",
            "|                ('BISCUIT', 'COCK')|                                                  [('COFFEE', 1.0), ('CORNFLAKES', 1.0)]|\n",
            "|      ('BISCUIT', 'COCK', 'COFFEE')|                                                                                      []|\n",
            "|  ('BISCUIT', 'COCK', 'CORNFLAKES')|                                                                                      []|\n",
            "|              ('BISCUIT', 'COFFEE')|                                                    [('COCK', 1.0), ('CORNFLAKES', 1.0)]|\n",
            "|('BISCUIT', 'COFFEE', 'CORNFLAKES')|                                                                                      []|\n",
            "|          ('BISCUIT', 'CORNFLAKES')|[('COCK', 0.6666666666666666), ('COFFEE', 0.6666666666666666), ('BREAD', 0.3333333333...|\n",
            "|  ('BISCUIT', 'CORNFLAKES', 'MILK')|                                                                                      []|\n",
            "|               ('BISCUIT', 'MAGGI')|                                                          [('TEA', 1.0), ('BREAD', 0.5)]|\n",
            "|        ('BISCUIT', 'MAGGI', 'TEA')|                                                                                      []|\n",
            "|                ('BISCUIT', 'MILK')|                                                   [('BREAD', 1.0), ('CORNFLAKES', 0.5)]|\n",
            "|               ('BISCUIT', 'SUGER')|                                                                        [('BREAD', 1.0)]|\n",
            "|                 ('BISCUIT', 'TEA')|                                                        [('MAGGI', 1.0), ('BREAD', 0.5)]|\n",
            "|                       ('BISCUIT',)|[('BREAD', 0.5714285714285714), ('CORNFLAKES', 0.42857142857142855), ('MILK', 0.28571...|\n",
            "|             ('BOURNVITA', 'BREAD')|                            [('TEA', 0.6666666666666666), ('SUGER', 0.3333333333333333)]|\n",
            "|    ('BOURNVITA', 'BREAD', 'SUGER')|                                                                                      []|\n",
            "|      ('BOURNVITA', 'BREAD', 'TEA')|                                                                                      []|\n",
            "|            ('BOURNVITA', 'COFFEE')|                                                                        [('SUGER', 1.0)]|\n",
            "|   ('BOURNVITA', 'COFFEE', 'SUGER')|                                                                                      []|\n",
            "|             ('BOURNVITA', 'SUGER')|                                                       [('COFFEE', 0.5), ('BREAD', 0.5)]|\n",
            "|               ('BOURNVITA', 'TEA')|                                                                        [('BREAD', 1.0)]|\n",
            "|                     ('BOURNVITA',)|                       [('BREAD', 0.75), ('TEA', 0.5), ('SUGER', 0.5), ('COFFEE', 0.25)]|\n",
            "|                  ('BREAD', 'COCK')|                                                                       [('COFFEE', 1.0)]|\n",
            "|        ('BREAD', 'COCK', 'COFFEE')|                                                                                      []|\n",
            "|                ('BREAD', 'COFFEE')|                           [('SUGER', 0.6666666666666666), ('COCK', 0.3333333333333333)]|\n",
            "|       ('BREAD', 'COFFEE', 'SUGER')|                                                                                      []|\n",
            "|            ('BREAD', 'CORNFLAKES')|                                                       [('BISCUIT', 1.0), ('MILK', 1.0)]|\n",
            "|    ('BREAD', 'CORNFLAKES', 'MILK')|                                                                                      []|\n",
            "|                   ('BREAD', 'JAM')|                                           [('MAGGI', 1.0), ('MILK', 0.5), ('TEA', 0.5)]|\n",
            "|          ('BREAD', 'JAM', 'MAGGI')|                                                                                      []|\n",
            "|           ('BREAD', 'JAM', 'MILK')|                                                                                      []|\n",
            "|            ('BREAD', 'JAM', 'TEA')|                                                                                      []|\n",
            "|                 ('BREAD', 'MAGGI')|[('JAM', 0.6666666666666666), ('TEA', 0.6666666666666666), ('MILK', 0.333333333333333...|\n",
            "|         ('BREAD', 'MAGGI', 'MILK')|                                                                                      []|\n",
            "|          ('BREAD', 'MAGGI', 'TEA')|                                                                                      []|\n",
            "|                  ('BREAD', 'MILK')|                [('BISCUIT', 0.5), ('CORNFLAKES', 0.25), ('JAM', 0.25), ('MAGGI', 0.25)]|\n",
            "|                 ('BREAD', 'SUGER')|                               [('COFFEE', 0.5), ('BISCUIT', 0.25), ('BOURNVITA', 0.25)]|\n",
            "|                   ('BREAD', 'TEA')|                  [('BOURNVITA', 0.5), ('MAGGI', 0.5), ('BISCUIT', 0.25), ('JAM', 0.25)]|\n",
            "|                         ('BREAD',)|[('BISCUIT', 0.3076923076923077), ('MILK', 0.3076923076923077), ('TEA', 0.30769230769...|\n",
            "|                 ('COCK', 'COFFEE')|[('BISCUIT', 0.6666666666666666), ('CORNFLAKES', 0.6666666666666666), ('BREAD', 0.333...|\n",
            "|   ('COCK', 'COFFEE', 'CORNFLAKES')|                                                                                      []|\n",
            "|             ('COCK', 'CORNFLAKES')|                                                     [('BISCUIT', 1.0), ('COFFEE', 1.0)]|\n",
            "|                          ('COCK',)|[('COFFEE', 1.0), ('BISCUIT', 0.6666666666666666), ('CORNFLAKES', 0.6666666666666666)...|\n",
            "|           ('COFFEE', 'CORNFLAKES')|       [('BISCUIT', 0.5), ('COCK', 0.5), ('SUGER', 0.25), ('MILK', 0.25), ('TEA', 0.25)]|\n",
            "|   ('COFFEE', 'CORNFLAKES', 'MILK')|                                                                                      []|\n",
            "+-----------------------------------+----------------------------------------------------------------------------------------+\n",
            "only showing top 50 rows\n",
            "\n"
          ]
        }
      ],
      "source": [
        "def map_to_assoc_rules(rule):\n",
        "    \"\"\"\n",
        "    TODO\n",
        "    \"\"\"\n",
        "    # Décomposition de la règle en clé (ensemble de produits) et valeurs (règles associées)\n",
        "    key,values=rule\n",
        "    total_occurrences=0\n",
        "    rules=[]\n",
        "\n",
        "    #calcul du nombre total d'occurrences de chaque clé\n",
        "    for value in values:\n",
        "        if value[0] is None: # Vérifie si la valeur contient None pour obtenir le total des occurrences\n",
        "            total_occurrences = value[1] # Affecte le nombre total d'occurrences\n",
        "\n",
        "    #Calcul de la confiance pour chaque produit dans la liste des valeurs\n",
        "    if total_occurrences > 0:  # Vérification pour éviter la division par zéro\n",
        "        for value in values:\n",
        "            if value[0] is not None: # Vérifie que la valeur n'est pas None\n",
        "                confidence = value[1] / total_occurrences # Calcule la confiance\n",
        "                rules.append((value[0], confidence)) # Ajoute la règle avec le niveau de confiance à la liste\n",
        "\n",
        "    return (key, sorted(rules,key=lambda x: x[1], reverse=True)) # Retourne la clé et les règles triées par confiance décroissante\n",
        "\n",
        "# Calcule les règles d'association\n",
        "assoc_rules = combined_rules.map(map_to_assoc_rules) #TODO\n",
        "\n",
        "# Output as dataframe\n",
        "assoc_rules.map(format_tuples).toDF(['patterns', 'association_rules']).sort(['patterns']).show(50, truncate=88)"
      ]
    },
    {
      "cell_type": "markdown",
      "metadata": {
        "id": "hA3vXekwqcPo"
      },
      "source": [
        "## 3. VAERS dataset (35 points)"
      ]
    },
    {
      "cell_type": "markdown",
      "metadata": {
        "id": "BPV5g2hwMa0U"
      },
      "source": [
        "Avec votre algorithme MBA prêt à être utilisé, il est maintenant temps de travailler sur l'ensemble de données réel.\n",
        "Pour cette partie du TP, nous l'appliquerons au domaine médical afin de mettre en avant l'apparition de symptômes cooccurents.\n",
        "Cela permet notamment d'anticiper l'apparition de symptômes et ainsi d'effectuer les traitements préventifs adéquates.\n",
        "\n",
        "Pour ce faire, téléchargez le dataset [VAERS]() et lisez sa description (fichier note.txt) pour comprendre la structure de l'ensemble de données.\n",
        "Il s'agit d'une aggrégation et normalisation des données issues du programme états-unien de surveillance [*Vaccine Adverse Event Reporting System*](https://vaers.hhs.gov/index.html), couvrant une période allant de 1990 à 2024.\n",
        "\n",
        "Avant d'appliquer l'algorithme développé sur l'ensemble de données VAERS, vous devez d'abord filtrer les transactions pour qu'elles soient au même format défini par votre algorithme (une transaction par ligne).\n",
        "Pour manipuler les données, nous pouvons utiliser le bloc de données de Spark et le module SQL présenté dans la section 1.\n",
        "\n",
        "La cellule de code suivante utilise le module Spark SQL pour lire les observations de ``OBSERVATIONS_extract.csv`` et les informations détaillées de ``DATA.csv`` et ``SYMPTOMS.csv`` pour construire une dataframe qui contient un liste de tous les symptômes jamais observés pour chaque patient."
      ]
    },
    {
      "cell_type": "markdown",
      "metadata": {
        "id": "3eaInywAwqp5"
      },
      "source": [
        "### Chargement des données"
      ]
    },
    {
      "cell_type": "code",
      "execution_count": 12,
      "metadata": {
        "colab": {
          "base_uri": "https://localhost:8080/"
        },
        "id": "dcoaqEwByVIM",
        "outputId": "c7027da7-a657-4e93-9bbd-0f316bcd430c",
        "tags": []
      },
      "outputs": [
        {
          "name": "stdout",
          "output_type": "stream",
          "text": [
            "SYMPTOMS.csv\n",
            "+----------+--------------------+\n",
            "|SYMPTOM_ID|        SYMPTOM_NAME|\n",
            "+----------+--------------------+\n",
            "|         0|Cardiac vein diss...|\n",
            "|         1|Vaccination site ...|\n",
            "|         2|Blood bicarbonate...|\n",
            "|         3|  Judgement impaired|\n",
            "|         4|Sinus node dysfun...|\n",
            "+----------+--------------------+\n",
            "only showing top 5 rows\n",
            "\n"
          ]
        }
      ],
      "source": [
        "df_symptoms = spark.read.csv(ROOT + 'SYMPTOMS.csv', header=True, sep=',', inferSchema=True)\n",
        "print('SYMPTOMS.csv')\n",
        "df_symptoms.show(5)"
      ]
    },
    {
      "cell_type": "code",
      "execution_count": 13,
      "metadata": {
        "colab": {
          "base_uri": "https://localhost:8080/"
        },
        "id": "DH1zH_0UyWgv",
        "outputId": "76286ba3-dea5-4347-95aa-f5246884ce27",
        "tags": []
      },
      "outputs": [
        {
          "name": "stdout",
          "output_type": "stream",
          "text": [
            "OBSERVATIONS.csv\n",
            "+--------------+--------+----------+\n",
            "|OBSERVATION_ID|VAERS_ID|SYMPTOM_ID|\n",
            "+--------------+--------+----------+\n",
            "|             0|   25002|      9465|\n",
            "|             0|   25002|      2581|\n",
            "|             1|   25010|     14978|\n",
            "|             2|   25011|      2581|\n",
            "|             2|   25011|      6620|\n",
            "+--------------+--------+----------+\n",
            "only showing top 5 rows\n",
            "\n"
          ]
        }
      ],
      "source": [
        "df_observations = spark.read.csv(ROOT + 'OBSERVATIONS_extract.csv', header=True, sep=',', inferSchema=True)\n",
        "print('OBSERVATIONS.csv')\n",
        "df_observations.show(5)"
      ]
    },
    {
      "cell_type": "code",
      "execution_count": 14,
      "metadata": {
        "colab": {
          "base_uri": "https://localhost:8080/"
        },
        "id": "bR4veBLryXuM",
        "outputId": "5afa432e-acfd-439e-ecd6-c14a2525338d",
        "tags": []
      },
      "outputs": [
        {
          "name": "stdout",
          "output_type": "stream",
          "text": [
            "DATA.csv\n",
            "+--------+-----+-------+---+\n",
            "|VAERS_ID|STATE|AGE_YRS|SEX|\n",
            "+--------+-----+-------+---+\n",
            "|   25002|   FR|   82.0|  M|\n",
            "|   25010|   FR|    1.7|  M|\n",
            "|   25011|   FR|    5.0|  F|\n",
            "|   25064|   FR|   NULL|  F|\n",
            "|   25055|   FR|   54.0|  F|\n",
            "+--------+-----+-------+---+\n",
            "only showing top 5 rows\n",
            "\n"
          ]
        }
      ],
      "source": [
        "df_data = spark.read.csv(ROOT + 'DATA.csv', header=True, sep=',', inferSchema=True)\n",
        "print('DATA.csv')\n",
        "df_data.show(5)"
      ]
    },
    {
      "cell_type": "code",
      "execution_count": 15,
      "metadata": {
        "colab": {
          "base_uri": "https://localhost:8080/"
        },
        "id": "f9cxx8h8EWMm",
        "outputId": "b5cadc8f-63da-47f3-d560-b04c82459ff4",
        "tags": []
      },
      "outputs": [
        {
          "name": "stdout",
          "output_type": "stream",
          "text": [
            "VAX.csv\n",
            "+--------+--------+------------------+--------------------+\n",
            "|VAERS_ID|VAX_TYPE|          VAX_MANU|            VAX_NAME|\n",
            "+--------+--------+------------------+--------------------+\n",
            "|   25002|     PPV|  MERCK & CO. INC.|  PNEUMO (PNEUMOVAX)|\n",
            "|   25010|     MMR|  MERCK & CO. INC.|MEASLES + MUMPS +...|\n",
            "|   25011|     HEP|SMITHKLINE BEECHAM|   HEP B (ENGERIX-B)|\n",
            "|   25055|     HEP|SMITHKLINE BEECHAM|   HEP B (ENGERIX-B)|\n",
            "|   25056|     HEP|SMITHKLINE BEECHAM|   HEP B (ENGERIX-B)|\n",
            "+--------+--------+------------------+--------------------+\n",
            "only showing top 5 rows\n",
            "\n"
          ]
        }
      ],
      "source": [
        "df_vax = spark.read.csv(ROOT + 'VAX.csv', header=True, sep=',', inferSchema=True)\n",
        "print('VAX.csv')\n",
        "df_vax.show(5)"
      ]
    },
    {
      "cell_type": "markdown",
      "metadata": {
        "id": "4SKrggVywy-P"
      },
      "source": [
        "### Requête avec SQL"
      ]
    },
    {
      "cell_type": "code",
      "execution_count": 16,
      "metadata": {
        "id": "r0j8lixgGl4m",
        "tags": []
      },
      "outputs": [],
      "source": [
        "df_observations.createOrReplaceTempView(\"OBSERVATIONS\") # creates table 'observations'\n",
        "df_symptoms.createOrReplaceTempView(\"SYMPTOMS\") # creates table 'symptoms'\n",
        "df_data.createOrReplaceTempView(\"DATA\") # creates table 'data'\n",
        "df_vax.createOrReplaceTempView(\"VAX\") # creates table 'vax'"
      ]
    },
    {
      "cell_type": "code",
      "execution_count": 17,
      "metadata": {
        "colab": {
          "base_uri": "https://localhost:8080/"
        },
        "id": "mVss9sotT8X9",
        "outputId": "adac647b-b981-4d96-ec9f-0cba73a46c0d",
        "tags": []
      },
      "outputs": [
        {
          "name": "stdout",
          "output_type": "stream",
          "text": [
            "+--------+------------------------------------------------------------------------------+\n",
            "|VAERS_ID|SYMPTOMS                                                                      |\n",
            "+--------+------------------------------------------------------------------------------+\n",
            "|25002   |[Convulsion, Chills]                                                          |\n",
            "|25010   |[Bronchitis]                                                                  |\n",
            "|25011   |[Vomiting, Pyrexia, Convulsion]                                               |\n",
            "|25055   |[Neoplasm malignant, Nausea, Hepatocellular damage, Hepatic function abnormal]|\n",
            "|25056   |[Malaise, Hepatic cirrhosis]                                                  |\n",
            "+--------+------------------------------------------------------------------------------+\n",
            "only showing top 5 rows\n",
            "\n"
          ]
        }
      ],
      "source": [
        "\"\"\"\n",
        "List of symptoms ever contracted by each user\n",
        "\"\"\"\n",
        "spark.sql(\"\"\"\n",
        "  SELECT\n",
        "    data.VAERS_ID,\n",
        "    COLLECT_LIST(symp.SYMPTOM_NAME) AS SYMPTOMS\n",
        "  FROM DATA\n",
        "  INNER JOIN OBSERVATIONS observ ON observ.VAERS_ID = data.VAERS_ID\n",
        "  INNER JOIN SYMPTOMS symp ON observ.SYMPTOM_ID = symp.SYMPTOM_ID\n",
        "  GROUP BY data.VAERS_ID ORDER BY data.VAERS_ID\n",
        "\"\"\").show(5, truncate=False)"
      ]
    },
    {
      "cell_type": "markdown",
      "metadata": {
        "id": "dxNCqA-Uw52I"
      },
      "source": [
        "### Requête avec opérations ensemblistes sur le dataFrame"
      ]
    },
    {
      "cell_type": "code",
      "execution_count": 18,
      "metadata": {
        "colab": {
          "base_uri": "https://localhost:8080/"
        },
        "id": "6oB1eTkeMa0W",
        "outputId": "e2130dbc-9d15-4f40-b9fb-3e66a58bb891",
        "tags": []
      },
      "outputs": [
        {
          "name": "stdout",
          "output_type": "stream",
          "text": [
            "+--------+------------------------------------------------------------------------------+\n",
            "|VAERS_ID|SYMPTOMS                                                                      |\n",
            "+--------+------------------------------------------------------------------------------+\n",
            "|25002   |[Convulsion, Chills]                                                          |\n",
            "|25010   |[Bronchitis]                                                                  |\n",
            "|25011   |[Vomiting, Pyrexia, Convulsion]                                               |\n",
            "|25055   |[Neoplasm malignant, Nausea, Hepatocellular damage, Hepatic function abnormal]|\n",
            "|25056   |[Malaise, Hepatic cirrhosis]                                                  |\n",
            "+--------+------------------------------------------------------------------------------+\n",
            "only showing top 5 rows\n",
            "\n"
          ]
        }
      ],
      "source": [
        "\"\"\"\n",
        "List of symptoms ever contracted by each user\n",
        "\"\"\"\n",
        "df_data.join(df_observations, df_observations.VAERS_ID == df_data.VAERS_ID, 'inner')\\\n",
        " .join(df_symptoms, df_symptoms.SYMPTOM_ID == df_observations.SYMPTOM_ID, 'inner')\\\n",
        " .groupBy(df_data.VAERS_ID).agg(f.collect_list(df_symptoms.SYMPTOM_NAME).alias('SYMPTOMS'))\\\n",
        " .orderBy(df_data.VAERS_ID).show(5, truncate=False)"
      ]
    },
    {
      "cell_type": "markdown",
      "metadata": {
        "id": "JEqVeqhkMa0a"
      },
      "source": [
        "### 3.1 Perspectives médicales (20 points)\n",
        "\n",
        "Maintenant, vous êtes le *data scientist*. **En ne considérant que les lignes de ``OBSERVATIONS.csv``**, l'utilisation du module Spark SQL, performant avec SQL ou dataframe, répondez aux questions suivantes:\n",
        "\n",
        "1. Quel est l'âge moyen des patients par états américains ? - 4 pts\n",
        "2. Quels sont les 3 symptômes les plus observés pour chaque entreprise de vaccins ? - 8 pts\n",
        "3. Quelle est le nombre moyen de symptômes pour les 20 vaccins les plus utilisés ? - 8 pts\n",
        "    - utilisez un barplot pour visualiser vos résultats, ordonné selon la popularité des vaccins de cette ensemble de données\n",
        "**La sortie de ces questions doit contenir le NOM des produits, pas leur ID.**"
      ]
    },
    {
      "cell_type": "code",
      "execution_count": 19,
      "metadata": {
        "colab": {
          "base_uri": "https://localhost:8080/"
        },
        "id": "mduVYG70d__G",
        "outputId": "74fcd172-700b-481d-bb84-c58eddda5566",
        "tags": []
      },
      "outputs": [
        {
          "name": "stdout",
          "output_type": "stream",
          "text": [
            "+-----+-----------+-------------+\n",
            "|STATE|AVERAGE_AGE|PATIENT_COUNT|\n",
            "+-----+-----------+-------------+\n",
            "|   XV|       53.0|            2|\n",
            "|   XB|       49.5|           12|\n",
            "|   AS|       49.5|           99|\n",
            "|   FL|       48.7|        75261|\n",
            "|   MN|       44.9|        33330|\n",
            "|   KY|       44.8|        21733|\n",
            "|   MI|       44.6|        61641|\n",
            "|   AZ|       44.2|        32094|\n",
            "|   PR|       43.8|         7422|\n",
            "|   NV|       43.6|        10587|\n",
            "|   CT|       43.6|        18799|\n",
            "|   DE|       43.5|         4742|\n",
            "|   IN|       43.3|        40129|\n",
            "|   MT|       43.1|         6743|\n",
            "|   FM|       43.0|           65|\n",
            "|   VT|       42.9|         4547|\n",
            "|   CO|       42.6|        35877|\n",
            "|   TN|       42.4|        24698|\n",
            "|   SC|       42.3|        17708|\n",
            "|   NJ|       42.0|        41579|\n",
            "+-----+-----------+-------------+\n",
            "only showing top 20 rows\n",
            "\n"
          ]
        }
      ],
      "source": [
        "\"\"\"\n",
        "TODO\n",
        "Mean age and number of patient by state, sorted by mean age\n",
        "\"\"\"\n",
        "average_age_by_state = spark.sql(\"\"\"\n",
        "    SELECT\n",
        "        UPPER(STATE) AS STATE,\n",
        "        ROUND(AVG(AGE_YRS), 1) AS AVERAGE_AGE,\n",
        "        COUNT(VAERS_ID) AS PATIENT_COUNT\n",
        "    FROM\n",
        "        DATA\n",
        "    WHERE\n",
        "        STATE IS NOT NULL AND AGE_YRS IS NOT NULL AND STATE != '' AND AGE_YRS > 0\n",
        "    GROUP BY\n",
        "        UPPER(STATE)\n",
        "    ORDER BY\n",
        "        AVERAGE_AGE DESC\n",
        "\"\"\")\n",
        "\n",
        "average_age_by_state.show()"
      ]
    },
    {
      "cell_type": "code",
      "execution_count": 20,
      "metadata": {
        "colab": {
          "base_uri": "https://localhost:8080/"
        },
        "id": "U4oaFriU93Qk",
        "outputId": "42dd9bf1-1361-46ab-82ee-b3dfd17bcc74",
        "tags": []
      },
      "outputs": [
        {
          "name": "stdout",
          "output_type": "stream",
          "text": [
            "+-----------------------+------------------------------------------------+-----+\n",
            "|VAX_MANU               |SYMPTOM_NAME                                    |COUNT|\n",
            "+-----------------------+------------------------------------------------+-----+\n",
            "|AVENTIS PASTEUR        |Injection site pain                             |118  |\n",
            "|AVENTIS PASTEUR        |Injection site erythema                         |103  |\n",
            "|AVENTIS PASTEUR        |Pruritus                                        |81   |\n",
            "|BAVARIAN NORDIC        |Monkeypox                                       |18   |\n",
            "|BAVARIAN NORDIC        |Inappropriate schedule of product administration|12   |\n",
            "|BAVARIAN NORDIC        |Off label use                                   |11   |\n",
            "|BAXTER HEALTHCARE CORP.|Dysphonia                                       |1    |\n",
            "|BAXTER HEALTHCARE CORP.|Crying                                          |1    |\n",
            "|BERNA BIOTECH, LTD     |Alcohol use                                     |1    |\n",
            "|BERNA BIOTECH, LTD     |Autopsy                                         |1    |\n",
            "|BERNA BIOTECH, LTD     |Death                                           |1    |\n",
            "|BERNA BIOTECH, LTD.    |Pyrexia                                         |163  |\n",
            "|BERNA BIOTECH, LTD.    |Diarrhoea                                       |162  |\n",
            "|BERNA BIOTECH, LTD.    |Nausea                                          |155  |\n",
            "|BSI                    |Grand mal convulsion                            |1    |\n",
            "|BSI                    |Nausea                                          |1    |\n",
            "|BSI                    |Enzyme abnormality                              |1    |\n",
            "|BURROUGHS WELLCOME     |Injection site warmth                           |2    |\n",
            "|BURROUGHS WELLCOME     |Chills                                          |1    |\n",
            "|BURROUGHS WELLCOME     |Skin nodule                                     |1    |\n",
            "+-----------------------+------------------------------------------------+-----+\n",
            "only showing top 20 rows\n",
            "\n"
          ]
        }
      ],
      "source": [
        "\"\"\"\n",
        "TODO\n",
        "Top 3 most observated symptoms of each company\n",
        "\"\"\"\n",
        "#création d'un vu de dataset observation\n",
        "completed_observations_df = spark.read.csv(ROOT + 'OBSERVATIONS.csv', header=True, sep=',', inferSchema=True)\n",
        "completed_observations_df.createOrReplaceTempView(\"COMPLETED_OBSERVATIONS\")\n",
        "\n",
        "top_symptoms_by_company = spark.sql(\"\"\"\n",
        "    WITH SymptomCounts AS (\n",
        "        SELECT\n",
        "            vax.VAX_MANU AS VAX_MANU,\n",
        "            symp.SYMPTOM_NAME,\n",
        "            COUNT(symp.SYMPTOM_NAME) AS COUNT\n",
        "        FROM\n",
        "            COMPLETED_OBSERVATIONS observ\n",
        "            INNER JOIN SYMPTOMS symp ON observ.SYMPTOM_ID = symp.SYMPTOM_ID\n",
        "            INNER JOIN DATA data ON observ.VAERS_ID = data.VAERS_ID\n",
        "            INNER JOIN VAX vax ON data.VAERS_ID = vax.VAERS_ID\n",
        "        GROUP BY\n",
        "            vax.VAX_MANU, symp.SYMPTOM_NAME\n",
        "    ),\n",
        "    RankedSymptoms AS (\n",
        "        SELECT\n",
        "            VAX_MANU,\n",
        "            SYMPTOM_NAME,\n",
        "            COUNT,\n",
        "            ROW_NUMBER() OVER (PARTITION BY VAX_MANU ORDER BY COUNT DESC) AS RANK\n",
        "        FROM\n",
        "            SymptomCounts\n",
        "    )\n",
        "    SELECT\n",
        "        VAX_MANU,\n",
        "        SYMPTOM_NAME,\n",
        "        COUNT\n",
        "    FROM\n",
        "        RankedSymptoms\n",
        "    WHERE\n",
        "        RANK <= 3\n",
        "    ORDER BY\n",
        "        VAX_MANU, RANK\n",
        "\"\"\")\n",
        "\n",
        "top_symptoms_by_company.show(truncate=False)"
      ]
    },
    {
      "cell_type": "code",
      "execution_count": 21,
      "metadata": {
        "colab": {
          "base_uri": "https://localhost:8080/",
          "height": 1000
        },
        "id": "4MODKAihOdCS",
        "outputId": "30125d7a-6288-448c-a4c6-3837a6b3b2e7",
        "tags": []
      },
      "outputs": [
        {
          "name": "stdout",
          "output_type": "stream",
          "text": [
            "Les 20 noms de vaccins les plus utilisés :\n",
            "+-------------------------------------+-----------+\n",
            "|VAX_NAME                             |USAGE_COUNT|\n",
            "+-------------------------------------+-----------+\n",
            "|COVID19 (COVID19 (PFIZER-BIONTECH))  |2725025    |\n",
            "|COVID19 (COVID19 (MODERNA))          |417523     |\n",
            "|MEASLES + MUMPS + RUBELLA (MMR II)   |98100      |\n",
            "|COVID19 (COVID19 (JANSSEN))          |97405      |\n",
            "|HEP B (ENGERIX-B)                    |88235      |\n",
            "|HPV (GARDASIL)                       |74885      |\n",
            "|PNEUMO (PREVNAR13)                   |74104      |\n",
            "|VACCINE NOT SPECIFIED (NO BRAND NAME)|72308      |\n",
            "|POLIO VIRUS, ORAL (ORIMUNE)          |70461      |\n",
            "|INFLUENZA (SEASONAL) (NO BRAND NAME) |69221      |\n",
            "|PNEUMO (PNEUMOVAX)                   |57884      |\n",
            "|DTP (NO BRAND NAME)                  |56412      |\n",
            "|HEP B (RECOMBIVAX HB)                |54213      |\n",
            "|VARICELLA (VARIVAX)                  |46078      |\n",
            "|ROTAVIRUS (ROTARIX)                  |45190      |\n",
            "|HIB (ACTHIB)                         |44774      |\n",
            "|HIB (HIBTITER)                       |43490      |\n",
            "|PNEUMO (PREVNAR)                     |42232      |\n",
            "|TD ADSORBED (NO BRAND NAME)          |38643      |\n",
            "|COVID19 (COVID19 (UNKNOWN))          |36235      |\n",
            "+-------------------------------------+-----------+\n",
            "\n",
            "Tableau des moyennes de symptômes et des nombres d'utilisations pour les 20 noms de vaccins les plus utilisés :\n",
            "                                 VAX_NAME  USAGE_COUNT  AVG_SYMPTOMS\n",
            "0     COVID19 (COVID19 (PFIZER-BIONTECH))      2725025          5.38\n",
            "1             COVID19 (COVID19 (MODERNA))       417523          4.43\n",
            "2      MEASLES + MUMPS + RUBELLA (MMR II)        98100          3.68\n",
            "3             COVID19 (COVID19 (JANSSEN))        97405          3.71\n",
            "4                       HEP B (ENGERIX-B)        88235          4.21\n",
            "5                          HPV (GARDASIL)        74885          7.48\n",
            "6                      PNEUMO (PREVNAR13)        74104          5.83\n",
            "7   VACCINE NOT SPECIFIED (NO BRAND NAME)        72308          7.61\n",
            "8             POLIO VIRUS, ORAL (ORIMUNE)        70461          3.22\n",
            "9    INFLUENZA (SEASONAL) (NO BRAND NAME)        69221          5.41\n",
            "10                     PNEUMO (PNEUMOVAX)        57884          4.07\n",
            "11                    DTP (NO BRAND NAME)        56412          3.71\n",
            "12                  HEP B (RECOMBIVAX HB)        54213          3.50\n",
            "13                    VARICELLA (VARIVAX)        46078          2.78\n",
            "14                    ROTAVIRUS (ROTARIX)        45190          5.56\n",
            "15                           HIB (ACTHIB)        44774          4.71\n",
            "16                         HIB (HIBTITER)        43490          3.12\n",
            "17                       PNEUMO (PREVNAR)        42232          4.52\n",
            "18            TD ADSORBED (NO BRAND NAME)        38643          3.85\n",
            "19            COVID19 (COVID19 (UNKNOWN))        36235          4.71\n"
          ]
        },
        {
          "data": {
            "image/png": "[encoded data removed]",
            "text/plain": [
              "<Figure size 1200x800 with 1 Axes>"
            ]
          },
          "metadata": {},
          "output_type": "display_data"
        }
      ],
      "source": [
        "\"\"\"\n",
        "TODO\n",
        "Average number of symptomes for the top 20 injected vaccine.\n",
        "\"\"\"\n",
        "\n",
        "from pyspark.sql import SparkSession\n",
        "from pyspark.sql import functions as F\n",
        "import matplotlib.pyplot as plt\n",
        "import pandas as pd\n",
        "\n",
        "# Identification des 20 noms de vaccins les plus utilisés\n",
        "vaccine_usage = spark.sql(\"\"\"\n",
        "    SELECT\n",
        "        vax.VAX_NAME,\n",
        "        COUNT(*) AS USAGE_COUNT\n",
        "    FROM\n",
        "        VAX vax\n",
        "        INNER JOIN COMPLETED_OBSERVATIONS observ ON observ.VAERS_ID = vax.VAERS_ID\n",
        "    GROUP BY\n",
        "        vax.VAX_NAME\n",
        "    ORDER BY\n",
        "        USAGE_COUNT DESC\n",
        "    LIMIT 20\n",
        "\"\"\")\n",
        "\n",
        "vaccine_usage.createOrReplaceTempView(\"TOP_VACCINES\")\n",
        "\n",
        "# Affichage des 20 noms de vaccins les plus utilisés\n",
        "print(\"Les 20 noms de vaccins les plus utilisés :\")\n",
        "vaccine_usage.show(truncate=False)\n",
        "\n",
        "# Calcul du nombre de symptômes par VAERS_ID\n",
        "symptom_counts = spark.sql(\"\"\"\n",
        "    SELECT\n",
        "        observ.VAERS_ID,\n",
        "        COUNT(observ.SYMPTOM_ID) AS SYMPTOM_COUNT\n",
        "    FROM\n",
        "        COMPLETED_OBSERVATIONS observ\n",
        "    GROUP BY\n",
        "        observ.VAERS_ID\n",
        "\"\"\")\n",
        "\n",
        "symptom_counts.createOrReplaceTempView(\"SYMPTOM_COUNTS\")\n",
        "\n",
        "# Calcul du nombre moyen de symptômes pour chaque vaccin parmi les 20 plus utilisés identifiés précédemment\n",
        "average_symptoms = spark.sql(\"\"\"\n",
        "    SELECT\n",
        "        vax.VAX_NAME,\n",
        "        ROUND(AVG(symptom_counts.SYMPTOM_COUNT),2) AS AVG_SYMPTOMS\n",
        "    FROM\n",
        "        VAX vax\n",
        "        LEFT JOIN SYMPTOM_COUNTS symptom_counts ON vax.VAERS_ID = symptom_counts.VAERS_ID\n",
        "    WHERE\n",
        "        vax.VAX_NAME IN (SELECT VAX_NAME FROM TOP_VACCINES)\n",
        "    GROUP BY\n",
        "        vax.VAX_NAME\n",
        "    ORDER BY\n",
        "        AVG_SYMPTOMS DESC\n",
        "\"\"\")\n",
        "\n",
        "average_symptoms.createOrReplaceTempView(\"AVERAGE_SYMPTOMS\")\n",
        "\n",
        "# Jointure des résultats pour obtenir le nombre d'utilisations et le nombre moyen de symptômes\n",
        "result = spark.sql(\"\"\"\n",
        "    SELECT\n",
        "        t.VAX_NAME,\n",
        "        t.USAGE_COUNT,\n",
        "        a.AVG_SYMPTOMS\n",
        "    FROM\n",
        "        TOP_VACCINES t\n",
        "    JOIN\n",
        "        AVERAGE_SYMPTOMS a ON t.VAX_NAME = a.VAX_NAME\n",
        "    ORDER BY\n",
        "        t.USAGE_COUNT DESC\n",
        "\"\"\")\n",
        "\n",
        "# Convertion des résultats en DataFrame Pandas pour la visualisation\n",
        "result_pd = result.toPandas()\n",
        "\n",
        "# Affichage du tableau des moyennes et des nombres d'utilisations\n",
        "print(\"Tableau des moyennes de symptômes et des nombres d'utilisations pour les 20 noms de vaccins les plus utilisés :\")\n",
        "print(result_pd)\n",
        "\n",
        "plt.figure(figsize=(12, 8))\n",
        "plt.barh(result_pd['VAX_NAME'], result_pd['AVG_SYMPTOMS'], color='skyblue')\n",
        "plt.xlabel('Nombre moyen de symptômes')\n",
        "plt.ylabel('Nom du vaccin')\n",
        "plt.title('Nombre moyen de symptômes pour les 20 vaccins les plus utilisés')\n",
        "plt.gca().invert_yaxis()\n",
        "plt.show()"
      ]
    },
    {
      "cell_type": "markdown",
      "metadata": {
        "id": "PEWqTH1QMa0a"
      },
      "source": [
        "### 3.2 MBA pour les observations de 2024 (15 points)\n",
        "\n",
        "En utilisant les commandes du ``OBSERVATIONS_extract.csv``, créez un bloc de données où chaque ligne contient la colonne ``transaction`` avec la liste des produits achetés, de manière similaire au GroceryDataset. Ensuite, exécutez l'algorithme MBA pour cet ensemble de transactions.\n",
        "\n",
        "- Vous devez signaler le temps passé pour effectuer cette tâche.\n",
        "- La sortie doit contenir le nom des produits."
      ]
    },
    {
      "cell_type": "code",
      "execution_count": 22,
      "metadata": {
        "colab": {
          "base_uri": "https://localhost:8080/"
        },
        "id": "vxZh_f3hMa0b",
        "outputId": "d2d74dc3-a7d3-4d18-931c-aab22b7b3581",
        "tags": []
      },
      "outputs": [
        {
          "name": "stdout",
          "output_type": "stream",
          "text": [
            "+--------+-------------------------------------------------------------------------+\n",
            "|VAERS_ID|transaction                                                              |\n",
            "+--------+-------------------------------------------------------------------------+\n",
            "|25002   |Convulsion,Chills                                                        |\n",
            "|25010   |Bronchitis                                                               |\n",
            "|25011   |Vomiting,Pyrexia,Convulsion                                              |\n",
            "|25055   |Neoplasm malignant,Nausea,Hepatocellular damage,Hepatic function abnormal|\n",
            "|25056   |Malaise,Hepatic cirrhosis                                                |\n",
            "|25057   |Anaphylactoid reaction                                                   |\n",
            "|25058   |Headache,Electroencephalogram abnormal,Convulsion                        |\n",
            "|25060   |Urticaria,Angioneurotic oedema,Angina pectoris                           |\n",
            "|25061   |Rash,Dyspnoea,Anaphylactoid reaction                                     |\n",
            "|25064   |Congenital anomaly                                                       |\n",
            "+--------+-------------------------------------------------------------------------+\n",
            "only showing top 10 rows\n",
            "\n",
            "CPU times: user 44.5 ms, sys: 6.93 ms, total: 51.5 ms\n",
            "Wall time: 6.95 s\n"
          ]
        }
      ],
      "source": [
        "%%time\n",
        "\"\"\"\n",
        "TODO: create a query to create and struct the transactions\n",
        "\"\"\"\n",
        "transactions_df = spark.sql(\"\"\"\n",
        "    SELECT\n",
        "        data.VAERS_ID,\n",
        "        CONCAT_WS(\",\", COLLECT_LIST(symp.SYMPTOM_NAME)) AS transaction\n",
        "    FROM\n",
        "        DATA data\n",
        "    INNER JOIN\n",
        "        OBSERVATIONS observ ON observ.VAERS_ID = data.VAERS_ID\n",
        "    INNER JOIN\n",
        "        SYMPTOMS symp ON observ.SYMPTOM_ID = symp.SYMPTOM_ID\n",
        "    GROUP BY\n",
        "        data.VAERS_ID\n",
        "    ORDER BY\n",
        "        data.VAERS_ID\n",
        "\"\"\")\n",
        "\n",
        "transactions_df.show(10, truncate=False)\n"
      ]
    },
    {
      "cell_type": "markdown",
      "metadata": {
        "id": "wJD-Ra-qp5QZ"
      },
      "source": [
        "Attention, l'exécution de cellule-ci devrait prendre plusieurs dizaines de minutes, dépendamment de l'implémentation que vous avez codé."
      ]
    },
    {
      "cell_type": "code",
      "execution_count": 24,
      "metadata": {
        "colab": {
          "base_uri": "https://localhost:8080/"
        },
        "id": "dewN0YUEMa0h",
        "outputId": "5820b5b6-9b01-4e20-e457-0409bad072b1",
        "tags": []
      },
      "outputs": [
        {
          "name": "stdout",
          "output_type": "stream",
          "text": [
            "+----------------------------------------------------------------------------------------+-----------+\n",
            "|                                                                                patterns|occurrences|\n",
            "+----------------------------------------------------------------------------------------+-----------+\n",
            "|                   (\"5'nucleotidase\", 'Activated partial thromboplastin time prolonged')|          1|\n",
            "|(\"5'nucleotidase\", 'Activated partial thromboplastin time prolonged', 'Alanine aminot...|          1|\n",
            "|(\"5'nucleotidase\", 'Activated partial thromboplastin time prolonged', 'Antibody test ...|          1|\n",
            "|(\"5'nucleotidase\", 'Activated partial thromboplastin time prolonged', 'Aspartate amin...|          1|\n",
            "|(\"5'nucleotidase\", 'Activated partial thromboplastin time prolonged', 'Bilirubin conj...|          1|\n",
            "+----------------------------------------------------------------------------------------+-----------+\n",
            "only showing top 5 rows\n",
            "\n",
            "+----------------------------------------------------------------------------------------+--------------------+\n",
            "|                                                                                patterns|combined_occurrences|\n",
            "+----------------------------------------------------------------------------------------+--------------------+\n",
            "|                   (\"5'nucleotidase\", 'Activated partial thromboplastin time prolonged')|                   1|\n",
            "|(\"5'nucleotidase\", 'Activated partial thromboplastin time prolonged', 'Alanine aminot...|                   1|\n",
            "|(\"5'nucleotidase\", 'Activated partial thromboplastin time prolonged', 'Antibody test ...|                   1|\n",
            "|(\"5'nucleotidase\", 'Activated partial thromboplastin time prolonged', 'Aspartate amin...|                   1|\n",
            "|(\"5'nucleotidase\", 'Activated partial thromboplastin time prolonged', 'Bilirubin conj...|                   1|\n",
            "+----------------------------------------------------------------------------------------+--------------------+\n",
            "only showing top 5 rows\n",
            "\n",
            "+---------------------------------------------------------------------+-------------------------------------------+\n",
            "|                                                          subpatterns|                                      rules|\n",
            "+---------------------------------------------------------------------+-------------------------------------------+\n",
            "|(\"5'nucleotidase\", 'Activated partial thromboplastin time prolonged')|                ('Bilirubin conjugated', 1)|\n",
            "|(\"5'nucleotidase\", 'Activated partial thromboplastin time prolonged')|              ('Blood immunoglobulin A', 1)|\n",
            "|(\"5'nucleotidase\", 'Activated partial thromboplastin time prolonged')|        ('Toxoplasma serology negative', 1)|\n",
            "|(\"5'nucleotidase\", 'Activated partial thromboplastin time prolonged')|                            ('Globulin', 1)|\n",
            "|(\"5'nucleotidase\", 'Activated partial thromboplastin time prolonged')|('Hepatitis B surface antigen negative', 1)|\n",
            "+---------------------------------------------------------------------+-------------------------------------------+\n",
            "only showing top 5 rows\n",
            "\n",
            "+----------------------------------------------------------------------------------------+----------------------------------------------------------------------------------------+\n",
            "|                                                                             subpatterns|                                                                          combined_rules|\n",
            "+----------------------------------------------------------------------------------------+----------------------------------------------------------------------------------------+\n",
            "|                   (\"5'nucleotidase\", 'Activated partial thromboplastin time prolonged')|[('Idiopathic thrombocytopenic purpura', 1), ('Antibody test negative', 1), (None, 1)...|\n",
            "|(\"5'nucleotidase\", 'Activated partial thromboplastin time prolonged', 'Alanine aminot...|                                                                             [(None, 1)]|\n",
            "|(\"5'nucleotidase\", 'Activated partial thromboplastin time prolonged', 'Antibody test ...|                                                                             [(None, 1)]|\n",
            "|(\"5'nucleotidase\", 'Activated partial thromboplastin time prolonged', 'Aspartate amin...|                                                                             [(None, 1)]|\n",
            "|(\"5'nucleotidase\", 'Activated partial thromboplastin time prolonged', 'Bilirubin conj...|                                                                             [(None, 1)]|\n",
            "+----------------------------------------------------------------------------------------+----------------------------------------------------------------------------------------+\n",
            "only showing top 5 rows\n",
            "\n",
            "+----------------------------------------------------------------------------------------+----------------------------------------------------------------------------------------+\n",
            "|                                                                                patterns|                                                                       association_rules|\n",
            "+----------------------------------------------------------------------------------------+----------------------------------------------------------------------------------------+\n",
            "|                   (\"5'nucleotidase\", 'Activated partial thromboplastin time prolonged')|[('Idiopathic thrombocytopenic purpura', 1.0), ('Antibody test negative', 1.0), ('Hep...|\n",
            "|(\"5'nucleotidase\", 'Activated partial thromboplastin time prolonged', 'Alanine aminot...|                                                                                      []|\n",
            "|(\"5'nucleotidase\", 'Activated partial thromboplastin time prolonged', 'Antibody test ...|                                                                                      []|\n",
            "|(\"5'nucleotidase\", 'Activated partial thromboplastin time prolonged', 'Aspartate amin...|                                                                                      []|\n",
            "|(\"5'nucleotidase\", 'Activated partial thromboplastin time prolonged', 'Bilirubin conj...|                                                                                      []|\n",
            "+----------------------------------------------------------------------------------------+----------------------------------------------------------------------------------------+\n",
            "only showing top 5 rows\n",
            "\n",
            "CPU times: user 29.6 s, sys: 3.46 s, total: 33.1 s\n",
            "Wall time: 1h 33min 40s\n"
          ]
        }
      ],
      "source": [
        "%%time\n",
        "\"\"\"\n",
        "TODO: run the MBA algorithm and show the first 5 association rules\n",
        "\"\"\"\n",
        "\n",
        "#Map to Patterns\n",
        "transactions_rdd = transactions_df.rdd\n",
        "patterns_rdd = transactions_rdd.flatMap(map_to_patterns)\n",
        "patterns_rdd.map(format_tuples).toDF(['patterns', 'occurrences']).sort(['patterns']).show(5,truncate=88)\n",
        "\n",
        "#Reduce to Patterns\n",
        "combined_patterns_rdd = patterns_rdd.reduceByKey(reduce_patterns)\n",
        "# Output as dataframe\n",
        "combined_patterns_rdd.map(format_tuples).toDF(['patterns', 'combined_occurrences']).sort(['patterns']).show(5,truncate=88)\n",
        "\n",
        "#Map to Subpatterns\n",
        "subpatterns_rdd = combined_patterns_rdd.flatMap(map_to_subpatterns)\n",
        "# Output as dataframe\n",
        "subpatterns_rdd.map(format_tuples).toDF(['subpatterns', 'rules']).sort(['subpatterns']).show(5,truncate=88)\n",
        "\n",
        "# Reduce to Subpatterns\n",
        "combined_rules = subpatterns_rdd.groupByKey().mapValues(list)#TODO\n",
        "# Output as dataframe\n",
        "combined_rules.map(format_tuples).toDF(['subpatterns', 'combined_rules']).sort(['subpatterns']).show(5,truncate=88)\n",
        "\n",
        "#Map to Association Rules\n",
        "assoc_rules = combined_rules.map(map_to_assoc_rules)\n",
        "# Output as dataframe\n",
        "assoc_rules.map(format_tuples).toDF(['patterns', 'association_rules']).sort(['patterns']).show(5,truncate=88)"
      ]
    },
    {
      "cell_type": "markdown",
      "metadata": {
        "id": "e06nMh97qgl_"
      },
      "source": [
        "## 4. MBA pour le dataset complet (20 points)\n"
      ]
    },
    {
      "cell_type": "markdown",
      "metadata": {
        "id": "5DkNPEtGMa0l"
      },
      "source": [
        "Comme vous l'avez probablement remarqué, même pour un ensemble de données moins volumineux, l'algorithme MBA est coûteux en calcul. Pour cette raison, cette fois, nous allons répéter le processus, mais en utilisant maintenant Google Cloud Platform (GCP) pour créer un grand cluster. Toutes les instructions pour créer un cluster avec spark et comment soumettre un travail seront expliquées dans le laboratoire. Dans tous les cas, vous devez lire les instructions données dans le ``Instruction_GCP.pdf``.\n",
        "\n",
        "Cette fois, nous travaillerons avec le fichier ``OBSERVATIONS.csv``, qui contient plusieurs millions d'observations.\n",
        "\n",
        "**PRODUCTION ATTENDUE**\n",
        "\n",
        "Après avoir exécuté le MBA pour la plus grande collection d'observation, sélectionnez au hasard UN symptôme observé dans ``OBSERVATIONS`` et affichez les règles d'association (nom du symptôme et valeur d'association) de ce symptôme, c'est-à-dire lorsque le symptôme est seul. La sortie doit être formatée dans un tableau, où chaque ligne contenant les informations d'un symptôme associé.\n",
        "Afin d'accélérer son exécution, vous pouvez créer un second notebook uniquement dédié à cette partie et l'insérer dans le rendu final.\n",
        "\n",
        "- Affichez l'identifiant (SYMPTOM_ID) et le nom du symptôme (SYMPTOM_NAME) sélectionné au hasard.\n",
        "- Signalez le temps d'exécution.\n",
        "\n",
        "**Remarque importante : joignez des captures d'écran de votre sortie et de votre configuration de cluster.**"
      ]
    },
    {
      "cell_type": "code",
      "execution_count": null,
      "metadata": {
        "id": "X1cVWxraMa0l",
        "outputId": "a8ce445f-8713-4f80-9eff-af06f2553f53",
        "tags": []
      },
      "outputs": [
        {
          "name": "stderr",
          "output_type": "stream",
          "text": [
            "[Stage 115:=========================================>             (12 + 4) / 16]\r"
          ]
        },
        {
          "name": "stdout",
          "output_type": "stream",
          "text": [
            "+--------+-------------------------------------------------------------------------+\n",
            "|VAERS_ID|transaction                                                              |\n",
            "+--------+-------------------------------------------------------------------------+\n",
            "|25002   |Chills,Convulsion                                                        |\n",
            "|25010   |Bronchitis                                                               |\n",
            "|25011   |Convulsion,Pyrexia,Vomiting                                              |\n",
            "|25055   |Hepatic function abnormal,Hepatocellular damage,Nausea,Neoplasm malignant|\n",
            "|25056   |Hepatic cirrhosis,Malaise                                                |\n",
            "+--------+-------------------------------------------------------------------------+\n",
            "only showing top 5 rows\n",
            "\n",
            "CPU times: user 8.89 ms, sys: 0 ns, total: 8.89 ms\n",
            "Wall time: 6.28 s\n"
          ]
        },
        {
          "name": "stderr",
          "output_type": "stream",
          "text": [
            "                                                                                \r"
          ]
        }
      ],
      "source": [
        "%%time\n",
        "\"\"\"\n",
        "TODO: create a query to create and struct the transactions from the OBSERVATIONS.csv file\n",
        "\"\"\"\n",
        "\n",
        "completed_transactions_df = spark.sql(\"\"\"\n",
        "    SELECT\n",
        "        data.VAERS_ID,\n",
        "        CONCAT_WS(\",\", COLLECT_LIST(symp.SYMPTOM_NAME)) AS transaction\n",
        "    FROM\n",
        "        DATA data\n",
        "    INNER JOIN\n",
        "        COMPLETED_OBSERVATIONS observ ON observ.VAERS_ID = data.VAERS_ID\n",
        "    INNER JOIN\n",
        "        SYMPTOMS symp ON observ.SYMPTOM_ID = symp.SYMPTOM_ID\n",
        "    GROUP BY\n",
        "        data.VAERS_ID\n",
        "    ORDER BY\n",
        "        data.VAERS_ID\n",
        "\"\"\")\n",
        "\n",
        "completed_transactions_df.show(5, truncate=False)"
      ]
    },
    {
      "cell_type": "code",
      "execution_count": null,
      "metadata": {
        "id": "MVBQ12b2Ma0o",
        "outputId": "b6e44bf6-2909-4d29-bf00-db93cf27cab2",
        "tags": []
      },
      "outputs": [
        {
          "name": "stderr",
          "output_type": "stream",
          "text": [
            "                                                                                \r"
          ]
        },
        {
          "name": "stdout",
          "output_type": "stream",
          "text": [
            "+--------------------------------------------------------------------------------------+-----------+\n",
            "|                                                                              patterns|occurrences|\n",
            "+--------------------------------------------------------------------------------------+-----------+\n",
            "|                                        (\"5'nucleotidase increased\", 'Amylase normal')|          1|\n",
            "|(\"5'nucleotidase increased\", 'Amylase normal', 'Blood alkaline phosphatase increased')|          1|\n",
            "|    (\"5'nucleotidase increased\", 'Amylase normal', 'Gamma-glutamyltransferase normal')|          1|\n",
            "|                (\"5'nucleotidase increased\", 'Amylase normal', 'Haemangioma of liver')|          1|\n",
            "|                   (\"5'nucleotidase increased\", 'Amylase normal', 'Hepatic steatosis')|          1|\n",
            "+--------------------------------------------------------------------------------------+-----------+\n",
            "only showing top 5 rows\n",
            "\n"
          ]
        },
        {
          "name": "stderr",
          "output_type": "stream",
          "text": [
            "                                                                                \r"
          ]
        },
        {
          "name": "stdout",
          "output_type": "stream",
          "text": [
            "+--------------------------------------------------------------------------------------+--------------------+\n",
            "|                                                                              patterns|combined_occurrences|\n",
            "+--------------------------------------------------------------------------------------+--------------------+\n",
            "|                                        (\"5'nucleotidase increased\", 'Amylase normal')|                   1|\n",
            "|(\"5'nucleotidase increased\", 'Amylase normal', 'Blood alkaline phosphatase increased')|                   1|\n",
            "|    (\"5'nucleotidase increased\", 'Amylase normal', 'Gamma-glutamyltransferase normal')|                   1|\n",
            "|                (\"5'nucleotidase increased\", 'Amylase normal', 'Haemangioma of liver')|                   1|\n",
            "|                   (\"5'nucleotidase increased\", 'Amylase normal', 'Hepatic steatosis')|                   1|\n",
            "+--------------------------------------------------------------------------------------+--------------------+\n",
            "only showing top 5 rows\n",
            "\n"
          ]
        },
        {
          "name": "stderr",
          "output_type": "stream",
          "text": [
            "                                                                                \r"
          ]
        },
        {
          "name": "stdout",
          "output_type": "stream",
          "text": [
            "+----------------------------------------------+---------------------------------------+\n",
            "|                                   subpatterns|                                  rules|\n",
            "+----------------------------------------------+---------------------------------------+\n",
            "|(\"5'nucleotidase increased\", 'Amylase normal')|                   ('Lipase normal', 1)|\n",
            "|(\"5'nucleotidase increased\", 'Amylase normal')|                              (None, 1)|\n",
            "|(\"5'nucleotidase increased\", 'Amylase normal')|('Gamma-glutamyltransferase normal', 1)|\n",
            "|(\"5'nucleotidase increased\", 'Amylase normal')|       ('Ultrasound liver abnormal', 1)|\n",
            "|(\"5'nucleotidase increased\", 'Amylase normal')|            ('Haemangioma of liver', 1)|\n",
            "+----------------------------------------------+---------------------------------------+\n",
            "only showing top 5 rows\n",
            "\n"
          ]
        },
        {
          "name": "stderr",
          "output_type": "stream",
          "text": [
            "                                                                                \r"
          ]
        },
        {
          "name": "stdout",
          "output_type": "stream",
          "text": [
            "+--------------------------------------------------------------------------------------+----------------------------------------------------------------------------------------+\n",
            "|                                                                           subpatterns|                                                                          combined_rules|\n",
            "+--------------------------------------------------------------------------------------+----------------------------------------------------------------------------------------+\n",
            "|                                        (\"5'nucleotidase increased\", 'Amylase normal')|[('Haemangioma of liver', 1), ('Lipase normal', 1), ('Hepatic steatosis', 1), ('Blood...|\n",
            "|(\"5'nucleotidase increased\", 'Amylase normal', 'Blood alkaline phosphatase increased')|                                                                             [(None, 1)]|\n",
            "|    (\"5'nucleotidase increased\", 'Amylase normal', 'Gamma-glutamyltransferase normal')|                                                                             [(None, 1)]|\n",
            "|                (\"5'nucleotidase increased\", 'Amylase normal', 'Haemangioma of liver')|                                                                             [(None, 1)]|\n",
            "|                   (\"5'nucleotidase increased\", 'Amylase normal', 'Hepatic steatosis')|                                                                             [(None, 1)]|\n",
            "+--------------------------------------------------------------------------------------+----------------------------------------------------------------------------------------+\n",
            "only showing top 5 rows\n",
            "\n"
          ]
        },
        {
          "name": "stderr",
          "output_type": "stream",
          "text": [
            "[Stage 174:===================================================>   (15 + 1) / 16]\r"
          ]
        },
        {
          "name": "stdout",
          "output_type": "stream",
          "text": [
            "+--------------------------------------------------------------------------------------+----------------------------------------------------------------------------------------+\n",
            "|                                                                              patterns|                                                                       association_rules|\n",
            "+--------------------------------------------------------------------------------------+----------------------------------------------------------------------------------------+\n",
            "|                                        (\"5'nucleotidase increased\", 'Amylase normal')|[('Blood alkaline phosphatase increased', 1.0), ('Ultrasound liver abnormal', 1.0), (...|\n",
            "|(\"5'nucleotidase increased\", 'Amylase normal', 'Blood alkaline phosphatase increased')|                                                                                      []|\n",
            "|    (\"5'nucleotidase increased\", 'Amylase normal', 'Gamma-glutamyltransferase normal')|                                                                                      []|\n",
            "|                (\"5'nucleotidase increased\", 'Amylase normal', 'Haemangioma of liver')|                                                                                      []|\n",
            "|                   (\"5'nucleotidase increased\", 'Amylase normal', 'Hepatic steatosis')|                                                                                      []|\n",
            "+--------------------------------------------------------------------------------------+----------------------------------------------------------------------------------------+\n",
            "only showing top 5 rows\n",
            "\n",
            "CPU times: user 538 ms, sys: 191 ms, total: 728 ms\n",
            "Wall time: 48min\n"
          ]
        },
        {
          "name": "stderr",
          "output_type": "stream",
          "text": [
            "                                                                                \r"
          ]
        }
      ],
      "source": [
        "%%time\n",
        "\"\"\"\n",
        "TODO: run the MBA algorithm and print the requested output\n",
        "\"\"\"\n",
        "\n",
        "#spark.conf.set(\"spark.sql.debug.maxToStringFields\", 1000)\n",
        "\n",
        "#Map to Patterns\n",
        "completed_transactions_rdd = completed_transactions_df.rdd\n",
        "patterns_rdd = completed_transactions_rdd.flatMap(map_to_patterns)\n",
        "patterns_rdd.map(format_tuples).toDF(['patterns', 'occurrences']).sort(['patterns']).show(5,truncate=88)\n",
        "\n",
        "#Reduce to Patterns\n",
        "combined_patterns_rdd = patterns_rdd.reduceByKey(reduce_patterns)\n",
        "# Output as dataframe\n",
        "combined_patterns_rdd.map(format_tuples).toDF(['patterns', 'combined_occurrences']).sort(['patterns']).show(5,truncate=88)\n",
        "\n",
        "#Map to Subpatterns\n",
        "subpatterns_rdd = combined_patterns_rdd.flatMap(map_to_subpatterns)\n",
        "# Output as dataframe\n",
        "subpatterns_rdd.map(format_tuples).toDF(['subpatterns', 'rules']).sort(['subpatterns']).show(5,truncate=88)\n",
        "\n",
        "# Reduce to Subpatterns\n",
        "combined_rules = subpatterns_rdd.groupByKey().mapValues(list)#TODO\n",
        "# Output as dataframe\n",
        "combined_rules.map(format_tuples).toDF(['subpatterns', 'combined_rules']).sort(['subpatterns']).show(5,truncate=88)\n",
        "\n",
        "#Map to Association Rules\n",
        "assoc_rules = combined_rules.map(map_to_assoc_rules)\n",
        "# Output as dataframe\n",
        "assoc_rules.map(format_tuples).toDF(['patterns', 'association_rules']).sort(['patterns']).show(5,truncate=88)"
      ]
    },
    {
      "cell_type": "markdown",
      "metadata": {
        "id": "Ixq_DapWpMAQ"
      },
      "source": [
        "#### Sélection aléatoire d'un symptôme pour observation de la regle d'association"
      ]
    },
    {
      "cell_type": "code",
      "execution_count": null,
      "metadata": {
        "id": "qIBoUtrfqkCd",
        "outputId": "45b5df60-6ee4-426e-fed5-43338b16e03a",
        "tags": []
      },
      "outputs": [
        {
          "name": "stderr",
          "output_type": "stream",
          "text": [
            "[Stage 295:=================================================>       (7 + 1) / 8]\r"
          ]
        },
        {
          "name": "stdout",
          "output_type": "stream",
          "text": [
            "+--------+----------+----------------+\n",
            "|VAERS_ID|SYMPTOM_ID|     transaction|\n",
            "+--------+----------+----------------+\n",
            "| 2134833|     11708|Drug ineffective|\n",
            "+--------+----------+----------------+\n",
            "\n",
            "CPU times: user 7.18 ms, sys: 0 ns, total: 7.18 ms\n",
            "Wall time: 2.99 s\n"
          ]
        },
        {
          "name": "stderr",
          "output_type": "stream",
          "text": [
            "                                                                                \r"
          ]
        }
      ],
      "source": [
        "%%time\n",
        "# Sélection aléatoire d'un symptôme\n",
        "ord_df = spark.sql(\"\"\"\n",
        "    SELECT o.VAERS_ID, p.SYMPTOM_ID, p.SYMPTOM_NAME AS transaction\n",
        "    FROM COMPLETED_OBSERVATIONS AS o\n",
        "    INNER JOIN SYMPTOMS AS p ON p.SYMPTOM_ID = o.SYMPTOM_ID\n",
        "    ORDER BY RAND()\n",
        "    LIMIT 1\n",
        "\"\"\")\n",
        "\n",
        "ord_df.show(3, truncate=100)"
      ]
    },
    {
      "cell_type": "code",
      "execution_count": null,
      "metadata": {
        "id": "3c1z1he3qkCe",
        "outputId": "520339cd-1531-47ec-80a7-59c9659d3b18",
        "tags": []
      },
      "outputs": [
        {
          "name": "stderr",
          "output_type": "stream",
          "text": [
            "[Stage 299:=================================================>       (7 + 1) / 8]\r"
          ]
        },
        {
          "name": "stdout",
          "output_type": "stream",
          "text": [
            "Symptôme sélectionné : Drug ineffective\n",
            "CPU times: user 8.14 ms, sys: 0 ns, total: 8.14 ms\n",
            "Wall time: 2.77 s\n"
          ]
        },
        {
          "name": "stderr",
          "output_type": "stream",
          "text": [
            "                                                                                \r"
          ]
        }
      ],
      "source": [
        "%%time\n",
        "# Extraction du nom du symptôme\n",
        "prod_name = ord_df.select('transaction').collect()[0].transaction\n",
        "print(f\"Symptôme sélectionné : {prod_name}\")"
      ]
    },
    {
      "cell_type": "code",
      "execution_count": null,
      "metadata": {
        "id": "4wVoVg27qkCe",
        "outputId": "a15f9c36-eaeb-469d-9341-3b079cf8e353",
        "tags": []
      },
      "outputs": [
        {
          "name": "stderr",
          "output_type": "stream",
          "text": [
            "[Stage 319:===================>                                     (1 + 2) / 3]\r"
          ]
        },
        {
          "name": "stdout",
          "output_type": "stream",
          "text": [
            "+---------------------+----------------------------------------------------------------------------------------+\n",
            "|             patterns|                                                                       association_rules|\n",
            "+---------------------+----------------------------------------------------------------------------------------+\n",
            "|('Drug ineffective',)|[('Bacterial infection', 0.2528868360277136), ('Pyrexia', 0.19861431870669746), ('Inf...|\n",
            "+---------------------+----------------------------------------------------------------------------------------+\n",
            "\n",
            "Symptôme sélectionné aléatoirement: Nom = Drug ineffective\n",
            "CPU times: user 55.5 ms, sys: 23.1 ms, total: 78.6 ms\n",
            "Wall time: 4min 51s\n"
          ]
        },
        {
          "name": "stderr",
          "output_type": "stream",
          "text": [
            "                                                                                \r"
          ]
        }
      ],
      "source": [
        "%%time\n",
        "# Filtrage et affichage des règles d'association pour le symptôme sélectionné\n",
        "x = assoc_rules.filter(lambda x: len(x[0]) == 1 and x[0][0] == prod_name).map(format_tuples).toDF(['patterns', 'association_rules'])\n",
        "x.show(truncate=88)\n",
        "\n",
        "# Affichage du résultat\n",
        "print(f\"Symptôme sélectionné aléatoirement: Nom = {prod_name}\")"
      ]
    },
    {
      "cell_type": "code",
      "execution_count": null,
      "metadata": {
        "id": "HTXm0RZOqkCe"
      },
      "outputs": [],
      "source": []
    },
    {
      "cell_type": "markdown",
      "metadata": {
        "id": "Zk74OpFeu-ef"
      },
      "source": [
        "# Remarque Importante\n",
        "\n",
        "Les trois premières parties de ce TP ont été réalisées sur Google Colab.\n",
        "\n",
        "Ensuite, le même notebook a été importé sur Google Cloud Platform (GCP) pour exécuter la partie 4, qui nécessite des ressources plus importantes pour traiter un ensemble de données plus volumineux.\n",
        "\n",
        "Ainsi, veuillez noter que seule la partie 4 du TP a été exécutée sur GCP."
      ]
    },
    {
      "cell_type": "code",
      "execution_count": null,
      "metadata": {
        "id": "F6yU9cWAvGcT"
      },
      "outputs": [],
      "source": []
    }
  ],
  "metadata": {
    "colab": {
      "collapsed_sections": [
        "ZQOy7hD8t76L"
      ],
      "provenance": []
    },
    "kernelspec": {
      "display_name": "Python 3",
      "language": "python",
      "name": "python3"
    },
    "language_info": {
      "codemirror_mode": {
        "name": "ipython",
        "version": 3
      },
      "file_extension": ".py",
      "mimetype": "text/x-python",
      "name": "python",
      "nbconvert_exporter": "python",
      "pygments_lexer": "ipython3",
      "version": "3.11.8"
    }
  },
  "nbformat": 4,
  "nbformat_minor": 0
}
